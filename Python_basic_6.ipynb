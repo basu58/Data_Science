{
 "cells": [
  {
   "cell_type": "code",
   "execution_count": 17,
   "id": "5b661354-9e2a-4bf7-b0cd-e1d4a1c05595",
   "metadata": {},
   "outputs": [],
   "source": [
    "def fun(x):\n",
    "    \"\"\"\n",
    "        this is nfunction example\n",
    "    \"\"\"\n",
    "    print('hello '+x)"
   ]
  },
  {
   "cell_type": "code",
   "execution_count": 18,
   "id": "0615e1ba-67f1-41b5-86f1-6caa542f7e64",
   "metadata": {},
   "outputs": [
    {
     "name": "stdout",
     "output_type": "stream",
     "text": [
      "hello world\n"
     ]
    }
   ],
   "source": [
    "fun('world')"
   ]
  },
  {
   "cell_type": "code",
   "execution_count": 19,
   "id": "353f9532-a3ed-478f-ba2d-ef2908bd5e7f",
   "metadata": {},
   "outputs": [
    {
     "name": "stdout",
     "output_type": "stream",
     "text": [
      "\n",
      "        this is nfunction example\n",
      "    \n"
     ]
    }
   ],
   "source": [
    "print(fun.__doc__)           # print doc string of the function"
   ]
  },
  {
   "cell_type": "code",
   "execution_count": 14,
   "id": "ce5d772b-a69c-421e-9f49-2ff65b950e9d",
   "metadata": {},
   "outputs": [],
   "source": [
    "def sumFun(numbers):\n",
    "    \"\"\"\n",
    "        This function returns the sum of all the numbers in a list\n",
    "    \"\"\"\n",
    "    sum = 0\n",
    "    for i in numbers:\n",
    "        sum += i\n",
    "    return sum"
   ]
  },
  {
   "cell_type": "code",
   "execution_count": 15,
   "id": "60e77aa8-3c26-4817-84f1-41317bc24316",
   "metadata": {},
   "outputs": [
    {
     "name": "stdout",
     "output_type": "stream",
     "text": [
      "10\n"
     ]
    }
   ],
   "source": [
    "sumNumbers = sumFun([1, 2, 3, 4])\n",
    "print(sumNumbers)"
   ]
  },
  {
   "cell_type": "code",
   "execution_count": 16,
   "id": "88193f84-e6c4-4f03-8536-e03ad436e04f",
   "metadata": {},
   "outputs": [
    {
     "name": "stdout",
     "output_type": "stream",
     "text": [
      "\n",
      "        This function returns the sum of all the numbers in a list\n",
      "    \n"
     ]
    }
   ],
   "source": [
    "print(sumFun.__doc__)"
   ]
  },
  {
   "cell_type": "code",
   "execution_count": 20,
   "id": "5da2cba4-459c-4c83-9d43-d9823cdfa9cf",
   "metadata": {},
   "outputs": [],
   "source": [
    "global_varible = \"This is a global variable\"\n",
    "def func():\n",
    "    local_variable = \"This is a local variable\"\n",
    "    print(global_varible)\n",
    "    print(local_variable)\n",
    "    "
   ]
  },
  {
   "cell_type": "code",
   "execution_count": 21,
   "id": "f84c6481-adf8-477c-88ed-7cdf157092b5",
   "metadata": {},
   "outputs": [
    {
     "name": "stdout",
     "output_type": "stream",
     "text": [
      "This is a global variable\n",
      "This is a local variable\n",
      "This is a global variable\n"
     ]
    },
    {
     "ename": "NameError",
     "evalue": "name 'local_variable' is not defined",
     "output_type": "error",
     "traceback": [
      "\u001b[1;31m---------------------------------------------------------------------------\u001b[0m",
      "\u001b[1;31mNameError\u001b[0m                                 Traceback (most recent call last)",
      "\u001b[1;32m<ipython-input-21-c34c9025ee91>\u001b[0m in \u001b[0;36m<module>\u001b[1;34m\u001b[0m\n\u001b[0;32m      1\u001b[0m \u001b[0mfunc\u001b[0m\u001b[1;33m(\u001b[0m\u001b[1;33m)\u001b[0m\u001b[1;33m\u001b[0m\u001b[1;33m\u001b[0m\u001b[0m\n\u001b[0;32m      2\u001b[0m \u001b[0mprint\u001b[0m\u001b[1;33m(\u001b[0m\u001b[0mglobal_varible\u001b[0m\u001b[1;33m)\u001b[0m\u001b[1;33m\u001b[0m\u001b[1;33m\u001b[0m\u001b[0m\n\u001b[1;32m----> 3\u001b[1;33m \u001b[0mprint\u001b[0m\u001b[1;33m(\u001b[0m\u001b[0mlocal_variable\u001b[0m\u001b[1;33m)\u001b[0m\u001b[1;33m\u001b[0m\u001b[1;33m\u001b[0m\u001b[0m\n\u001b[0m",
      "\u001b[1;31mNameError\u001b[0m: name 'local_variable' is not defined"
     ]
    }
   ],
   "source": [
    "func()\n",
    "print(global_varible)\n",
    "print(local_variable)"
   ]
  },
  {
   "cell_type": "code",
   "execution_count": 26,
   "id": "0504f26d-2764-41d5-93fa-83cc41328e52",
   "metadata": {},
   "outputs": [
    {
     "name": "stdout",
     "output_type": "stream",
     "text": [
      "factorial of 3 is = 6\n"
     ]
    }
   ],
   "source": [
    "def fact(num):\n",
    "    x = 1\n",
    "    while(num > 0):\n",
    "        x *= num\n",
    "        num -=1\n",
    "    return x\n",
    "num = 3\n",
    "print(\"factorial of {} is = {}\".format(num, fact(num)))"
   ]
  },
  {
   "cell_type": "code",
   "execution_count": 27,
   "id": "b9d70309-c01f-4657-9084-90d4a23593d0",
   "metadata": {},
   "outputs": [
    {
     "name": "stdout",
     "output_type": "stream",
     "text": [
      "120\n"
     ]
    }
   ],
   "source": [
    "num = -120\n",
    "print(abs(num))"
   ]
  },
  {
   "cell_type": "markdown",
   "id": "bd94bb1a-7868-4f3b-aeb9-bf70602b4472",
   "metadata": {},
   "source": [
    "The function all() retruns,\n",
    "\n",
    "True: If all elements in an iterable data collection are true\n",
    "\n",
    "False: If any element in an iterable data collection is false (Remember 0 & None are considered False)"
   ]
  },
  {
   "cell_type": "code",
   "execution_count": 28,
   "id": "01f837a5-b49a-4201-9ca8-ae7895513d61",
   "metadata": {},
   "outputs": [
    {
     "name": "stdout",
     "output_type": "stream",
     "text": [
      "True\n"
     ]
    }
   ],
   "source": [
    "x = {1, 2, 3, 4}\n",
    "print(all(x))"
   ]
  },
  {
   "cell_type": "code",
   "execution_count": 30,
   "id": "e57b06b3-ed2b-4a27-9370-063e75e0710a",
   "metadata": {},
   "outputs": [
    {
     "name": "stdout",
     "output_type": "stream",
     "text": [
      "False\n"
     ]
    }
   ],
   "source": [
    "x = [0, 1, 2, 3]\n",
    "print(all(x))"
   ]
  },
  {
   "cell_type": "code",
   "execution_count": 31,
   "id": "50f42d7f-85d6-4ef2-80d7-13452f0696f7",
   "metadata": {},
   "outputs": [
    {
     "name": "stdout",
     "output_type": "stream",
     "text": [
      "True\n"
     ]
    }
   ],
   "source": [
    "emptyList = []              # An empty list always returns true for all function\n",
    "print(all(emptyList))"
   ]
  },
  {
   "cell_type": "code",
   "execution_count": 32,
   "id": "6ffbe916-c6a8-453e-a193-a3c6d17391be",
   "metadata": {},
   "outputs": [
    {
     "name": "stdout",
     "output_type": "stream",
     "text": [
      "False\n"
     ]
    }
   ],
   "source": [
    "myList = [False, 1, 2]      # False present in a list so all(lst) is False\n",
    "print(all(myList))"
   ]
  },
  {
   "cell_type": "markdown",
   "id": "923996ad-8a8a-4bc3-a4c8-a1171de2cd9b",
   "metadata": {},
   "source": [
    "dir()\n",
    "-----\n",
    "\n",
    "The dir() tries to return a list of valid attributes of the object.\n",
    "\n",
    "If the object has dir() method, the method will be called and must return the list of attributes.\n",
    "\n",
    "If the object doesn't have dir() method, this method tries to find information from the dict attribute (if defined), and from type object. In this case, the list returned from dir() may not be complete."
   ]
  },
  {
   "cell_type": "code",
   "execution_count": 33,
   "id": "52f84d00-e9ef-4434-a175-76d91845061e",
   "metadata": {},
   "outputs": [
    {
     "name": "stdout",
     "output_type": "stream",
     "text": [
      "['__add__', '__class__', '__contains__', '__delattr__', '__delitem__', '__dir__', '__doc__', '__eq__', '__format__', '__ge__', '__getattribute__', '__getitem__', '__gt__', '__hash__', '__iadd__', '__imul__', '__init__', '__init_subclass__', '__iter__', '__le__', '__len__', '__lt__', '__mul__', '__ne__', '__new__', '__reduce__', '__reduce_ex__', '__repr__', '__reversed__', '__rmul__', '__setattr__', '__setitem__', '__sizeof__', '__str__', '__subclasshook__', 'append', 'clear', 'copy', 'count', 'extend', 'index', 'insert', 'pop', 'remove', 'reverse', 'sort']\n"
     ]
    }
   ],
   "source": [
    "numbers = [1, 2, 3]\n",
    "print(dir(numbers))"
   ]
  },
  {
   "cell_type": "code",
   "execution_count": 34,
   "id": "b484e198-e44f-4f08-acb0-5623ad838253",
   "metadata": {},
   "outputs": [
    {
     "name": "stdout",
     "output_type": "stream",
     "text": [
      "(4, 1)\n"
     ]
    }
   ],
   "source": [
    "print(divmod(9, 2))                    # Prints the quotient and remainder in the form of a tuple"
   ]
  },
  {
   "cell_type": "markdown",
   "id": "582e1d11-413b-4c80-9841-ac25c8b2c414",
   "metadata": {},
   "source": [
    "enumerate()\n",
    "------------\n",
    "enumerate() method adds counter to an iterable data collection & returns it\n",
    "\n",
    "Syntax: enumerate(iterable, start=0)\n",
    "\n",
    "The enumerate() method takes two parameters:\n",
    "\n",
    "iterable - a sequence, an iterator, or objects that supports iteration\n",
    "start (optional) - enumerate() starts counting from this number. If start is omitted, 0 is taken as start."
   ]
  },
  {
   "cell_type": "code",
   "execution_count": 35,
   "id": "1036ffd6-f0e4-47ff-b772-76e7401382ed",
   "metadata": {},
   "outputs": [
    {
     "name": "stdout",
     "output_type": "stream",
     "text": [
      "index 10 has value 1\n",
      "index 11 has value 2\n",
      "index 12 has value 3\n",
      "index 13 has value 4\n"
     ]
    }
   ],
   "source": [
    "numbers = [1, 2, 3, 4]\n",
    "\n",
    "for index, num in enumerate(numbers,10):\n",
    "    print(\"index {0} has value {1}\".format(index, num))"
   ]
  },
  {
   "cell_type": "markdown",
   "id": "502ba5fe-2627-498a-b52e-4e82ca4853b2",
   "metadata": {},
   "source": [
    "filter()\n",
    "---\n",
    "The filter() method constructs an iterator from elements of an iterable for which a function returns true.\n",
    "\n",
    "Syntax: filter(function, iterable)\n",
    "\n",
    "The filter() method takes two parameters:\n",
    "\n",
    "function - function that tests if elements of an iterable returns true or false If None, the function defaults to Identity function - which returns false if any elements are false\n",
    "iterable - iterable which is to be filtered, could be sets, lists, tuples, or containers of any iterators"
   ]
  },
  {
   "cell_type": "code",
   "execution_count": 36,
   "id": "90a0c590-4c4e-4856-beba-62fc56f97443",
   "metadata": {},
   "outputs": [],
   "source": [
    "def even_number(number):\n",
    "    \"\"\"\n",
    "    This function returns if a number is an even numbers\n",
    "    \"\"\"\n",
    "    if number%2 == 0:\n",
    "        return number\n",
    "    "
   ]
  },
  {
   "cell_type": "code",
   "execution_count": 37,
   "id": "d947b3ef-ee93-48ba-916d-cfb0f0d03a61",
   "metadata": {},
   "outputs": [
    {
     "name": "stdout",
     "output_type": "stream",
     "text": [
      "Original list of numbers:  [0, 1, 2, 3, 4, 5, 6, 7, 8, 9, 10, 11, 12, 13, 14, 15, 16, 17, 18, 19, 20, 21, 22, 23, 24, 25, 26, 27, 28, 29, 30, 31, 32, 33, 34, 35, 36, 37, 38, 39, 40, 41, 42, 43, 44, 45, 46, 47, 48, 49]\n",
      "\n",
      "Even numbers are:  [2, 4, 6, 8, 10, 12, 14, 16, 18, 20, 22, 24, 26, 28, 30, 32, 34, 36, 38, 40, 42, 44, 46, 48]\n"
     ]
    }
   ],
   "source": [
    "numbers = range(50)                                # A list with numbers from 0 to 49\n",
    "print('Original list of numbers: ',list(numbers))\n",
    "\n",
    "evenNumbers = list(filter(even_number, numbers))\n",
    "\n",
    "print('\\nEven numbers are: ',evenNumbers)"
   ]
  },
  {
   "cell_type": "code",
   "execution_count": 38,
   "id": "ce61bedb-b53f-4483-b5b4-480eee5a618a",
   "metadata": {},
   "outputs": [
    {
     "name": "stdout",
     "output_type": "stream",
     "text": [
      "The filtered letters are:\n",
      "e\n",
      "e\n"
     ]
    }
   ],
   "source": [
    "# function that filters vowels\n",
    "def fun(variable):\n",
    "\tletters = ['a', 'e', 'i', 'o', 'u']\n",
    "\tif (variable in letters):\n",
    "\t\treturn True\n",
    "\telse:\n",
    "\t\treturn False\n",
    "\n",
    "\n",
    "# sequence\n",
    "sequence = ['g', 'e', 'e', 'j', 'k', 's', 'p', 'r']\n",
    "\n",
    "# using filter function\n",
    "filtered = filter(fun, sequence)\n",
    "\n",
    "print('The filtered letters are:')\n",
    "for s in filtered:\n",
    "\tprint(s)\n"
   ]
  },
  {
   "cell_type": "markdown",
   "id": "bbe88a03-2cfa-43fc-9067-b53cafb4a18d",
   "metadata": {},
   "source": [
    "Syntax : \n",
    "---\n",
    "isinstance(obj, class)\n",
    "\n",
    "The isinstance() function checks if the object (first argument) is an instance or subclass of classinfo class (second argument).\n",
    "\n",
    "Syntax: isinstance(object, classinfo)\n",
    "\n",
    "Parameters : \n",
    "---\n",
    "obj :\n",
    "---\n",
    "The object that need to be checked as a part of class or not.\n",
    "\n",
    "class :\n",
    "---\n",
    "class/type/tuple of class or type, against which object is needed to be checked.\n",
    "\n",
    "Returns :\n",
    "---\n",
    "True, if object belongs to the given class/type if single class is passed or any of the class/type if tuple of class/type is passed, else returns False. Raises a TypeError if anything other than mentioned valid class type. "
   ]
  },
  {
   "cell_type": "code",
   "execution_count": 39,
   "id": "34baf354-ceb9-413a-84bc-ee0631d214d2",
   "metadata": {},
   "outputs": [
    {
     "name": "stdout",
     "output_type": "stream",
     "text": [
      "True\n",
      "True\n"
     ]
    }
   ],
   "source": [
    "mySet = {'Same', 'Not same', 100, 23}\n",
    "print(isinstance(mySet, set))                          # Check for set\n",
    "\n",
    "\n",
    "myDict = {1:1,2:2,3:3,4:4}     \n",
    "print(isinstance(myDict, dict))                        # Check for dictionary"
   ]
  },
  {
   "cell_type": "code",
   "execution_count": 40,
   "id": "f629ff86-090c-4e0c-a6c9-dfdbf086e131",
   "metadata": {},
   "outputs": [
    {
     "name": "stdout",
     "output_type": "stream",
     "text": [
      "Is test_int integer? : True\n",
      "Is test_int string? : False\n",
      "Is test_str string? : True\n",
      "Is test_list integer? : False\n",
      "Is test_list list? : True\n",
      "Is test_int integer or list or string? : True\n",
      "Is test_list string or tuple? : False\n"
     ]
    }
   ],
   "source": [
    "# Python 3 code to demonstrate\n",
    "# working of isinstance()\n",
    "# with native types\n",
    "\n",
    "# initializing native types\n",
    "test_int = 5\n",
    "test_str = \"GeeksforGeeks\"\n",
    "test_list = [1, 2, 3]\n",
    "\n",
    "# testing with isinstance\n",
    "print (\"Is test_int integer? : \" + str(isinstance(test_int, int)))\n",
    "print (\"Is test_int string? : \" + str(isinstance(test_int, str)))\n",
    "print (\"Is test_str string? : \" + str(isinstance(test_str, str)))\n",
    "print (\"Is test_list integer? : \" + str(isinstance(test_list, int)))\n",
    "print (\"Is test_list list? : \" + str(isinstance(test_list, list)))\n",
    "\n",
    "# testing with tuple\n",
    "print (\"Is test_int integer or list or string? : \"\n",
    "\t\t+ str(isinstance(test_int, (list, str, int))))\n",
    "\t\t\n",
    "print (\"Is test_list string or tuple? : \"\n",
    "\t\t+ str(isinstance(test_list, (str, tuple))))\n"
   ]
  },
  {
   "cell_type": "markdown",
   "id": "96d7eaae-83f4-407e-b543-c72e9ca29961",
   "metadata": {},
   "source": [
    "map()\n",
    "---\n",
    "\n",
    "Map applies a function to all the items in an input_list.\n",
    "\n",
    "Syntax: map(function_to_apply, list_of_inputs)"
   ]
  },
  {
   "cell_type": "code",
   "execution_count": 41,
   "id": "5c1233ad-0eff-458d-8b4d-6170b2ddb8a2",
   "metadata": {},
   "outputs": [
    {
     "name": "stdout",
     "output_type": "stream",
     "text": [
      "[5.0, 5.5, 6.0, 6.5, 7.0]\n"
     ]
    }
   ],
   "source": [
    "numbers = [10, 11, 12, 13, 14]\n",
    "\n",
    "            \n",
    "half = []                        # Calculate half of each element in the list.\n",
    "for num in numbers:\n",
    "    half.append(num / 2)\n",
    "\n",
    "print(half)\n"
   ]
  },
  {
   "cell_type": "code",
   "execution_count": 42,
   "id": "bc18a2f7-2ad4-466f-b937-9919c6026f1b",
   "metadata": {},
   "outputs": [
    {
     "name": "stdout",
     "output_type": "stream",
     "text": [
      "[5.0, 5.5, 6.0, 6.5, 7.0]\n"
     ]
    }
   ],
   "source": [
    "numbers = [10, 11, 12, 13, 14]\n",
    "\n",
    "def halfOfTheNumber(num):\n",
    "    return num / 2\n",
    "\n",
    "halves = list(map(halfOfTheNumber, numbers))           # Passing the calculation method to the map() function\n",
    "print(halves)\n"
   ]
  },
  {
   "cell_type": "markdown",
   "id": "a2eeae2a-6184-4d47-b4da-ba1347b774f0",
   "metadata": {},
   "source": [
    "reduce()\n",
    "------\n",
    "reduce() function is for performing some computation on a list and returning the result.\n",
    "\n",
    "It applies a rolling computation to sequential pairs of values in a list.\n",
    "\n",
    "Working :\n",
    "----\n",
    "\n",
    "At first step, first two elements of sequence are picked and the result is obtained.\n",
    "\n",
    "Next step is to apply the same function to the previously attained result and the number just succeeding the second element and the result is again stored.\n",
    "\n",
    "This process continues till no more elements are left in the container.\n",
    "\n",
    "The final returned result is returned and printed on console."
   ]
  },
  {
   "cell_type": "code",
   "execution_count": 43,
   "id": "1cf05f91-7d50-43ba-9fbd-9b1d3d814e10",
   "metadata": {},
   "outputs": [
    {
     "name": "stdout",
     "output_type": "stream",
     "text": [
      "10\n"
     ]
    }
   ],
   "source": [
    "sumOfAnArray = 0                              # Sum the numbers in a list\n",
    "numbers = [1, 2, 3, 4]\n",
    "\n",
    "for num in numbers:                  # Regular way of programming\n",
    "    sumOfAnArray += num\n",
    "print(sumOfAnArray)"
   ]
  },
  {
   "cell_type": "code",
   "execution_count": 44,
   "id": "9e465e99-450d-4ce7-b934-3bc7ad882980",
   "metadata": {},
   "outputs": [
    {
     "name": "stdout",
     "output_type": "stream",
     "text": [
      "10\n"
     ]
    }
   ],
   "source": [
    "from functools import reduce # in Python 3.\n",
    "\n",
    "def additionOfNumbers(x,y):                              # Program using reduce()\n",
    "    return x+y;\n",
    "\n",
    "sumOfAnArray = reduce(additionOfNumbers, numbers)\n",
    "print(sumOfAnArray)"
   ]
  },
  {
   "cell_type": "code",
   "execution_count": 45,
   "id": "254753c4-b8e9-4afc-9dc8-df106c3fe385",
   "metadata": {},
   "outputs": [
    {
     "name": "stdout",
     "output_type": "stream",
     "text": [
      "The sum of the list elements is : 17\n",
      "The maximum element of the list is : 6\n"
     ]
    }
   ],
   "source": [
    "# python code to demonstrate working of reduce()\n",
    "\n",
    "# importing functools for reduce()\n",
    "import functools\n",
    "\n",
    "# initializing list\n",
    "lis = [1, 3, 5, 6, 2, ]\n",
    "\n",
    "# using reduce to compute sum of list\n",
    "print(\"The sum of the list elements is : \", end=\"\")\n",
    "print(functools.reduce(lambda a, b: a+b, lis))\n",
    "\n",
    "# using reduce to compute maximum element from list\n",
    "print(\"The maximum element of the list is : \", end=\"\")\n",
    "print(functools.reduce(lambda a, b: a if a > b else b, lis))\n"
   ]
  },
  {
   "cell_type": "markdown",
   "id": "0feed6f3-72ba-4aaf-8d44-3faf2a7fcf0f",
   "metadata": {},
   "source": [
    "User-defined Functions\n",
    "---\n",
    "Functions that programmers define to do certain tasks are known as user-defined functions\n",
    "If we use functions written by others in the form of library, it can be termed as library functions.\n",
    "\n",
    "Advantages\n",
    "--\n",
    "Understandability: User-defined functions help to decompose a large program into small segments which makes program easy to understand, maintain and debug.\n",
    "\n",
    "Removing redundancy: If repeated code occurs in a program. Function can be used to include those codes and execute when needed by calling that function.\n",
    "\n",
    "Task seggregation:\n",
    "--\n",
    "Programmars working on large project can divide the workload by making different functions."
   ]
  },
  {
   "cell_type": "code",
   "execution_count": 46,
   "id": "9f58ab9b-3652-4000-9630-0de0e768cdc3",
   "metadata": {},
   "outputs": [
    {
     "name": "stdout",
     "output_type": "stream",
     "text": [
      "Sum of 10 and 20 is 30 \n"
     ]
    }
   ],
   "source": [
    "def sumOfNumbers(num1, num2):\n",
    "    \"\"\"\n",
    "    this function returns the product of two numbers\n",
    "    \"\"\"\n",
    "    sumVal = num1 + num2\n",
    "    return sumVal\n",
    "\n",
    "val1 = 10\n",
    "val2 = 20\n",
    "print(\"Sum of {0} and {1} is {2} \".format(val1, val2, sumOfNumbers(val1, val2)))"
   ]
  },
  {
   "cell_type": "code",
   "execution_count": 47,
   "id": "c2aa57cf-edc8-494e-ac01-d74062f980a7",
   "metadata": {},
   "outputs": [
    {
     "name": "stdout",
     "output_type": "stream",
     "text": [
      "Select Option\n",
      "1. Addition\n",
      "2. Subtraction\n",
      "3. Multiplication\n",
      "4. Division\n"
     ]
    },
    {
     "name": "stdin",
     "output_type": "stream",
     "text": [
      "Enter choice 1/2/3/4 1\n",
      "Enter first number: 2\n",
      "Enter second number: 3\n"
     ]
    },
    {
     "name": "stdout",
     "output_type": "stream",
     "text": [
      "Addition of 2.0 and 3.0 is 5.0\n"
     ]
    }
   ],
   "source": [
    "def add(a, b):\n",
    "    \"\"\"\n",
    "    This function adds two numbers\n",
    "    \"\"\"\n",
    "    return a + b\n",
    "\n",
    "def multiply(a, b):\n",
    "    \"\"\"\n",
    "    This function multiply two numbers\n",
    "    \"\"\"\n",
    "    return a * b\n",
    "\n",
    "def subtract(a, b):\n",
    "    \"\"\"\n",
    "    This function subtract two numbers\n",
    "    \"\"\"\n",
    "    return a - b\n",
    "\n",
    "def division(a, b):\n",
    "    \"\"\"\n",
    "    This function divides two numbers\n",
    "    \"\"\"\n",
    "    return a / b\n",
    "\n",
    "print(\"Select Option\")\n",
    "print(\"1. Addition\")\n",
    "print (\"2. Subtraction\")\n",
    "print (\"3. Multiplication\")\n",
    "print (\"4. Division\")\n",
    "\n",
    "#take input from user\n",
    "choice = int(input(\"Enter choice 1/2/3/4\"))\n",
    "\n",
    "num1 = float(input(\"Enter first number:\"))\n",
    "num2 = float(input(\"Enter second number:\"))\n",
    "if choice == 1:\n",
    "    print(\"Addition of {0} and {1} is {2}\".format(num1, num2, add(num1, num2)))\n",
    "elif choice == 2:\n",
    "    print(\"Subtraction of {0} and {1} is {2}\".format(num1, num2, subtract(num1, num2)))\n",
    "elif choice == 3:\n",
    "    print(\"Multiplication of {0} and {1} is {2}\".format(num1, num2, multiply(num1, num2)))\n",
    "elif choice == 4:\n",
    "    print(\"Division of {0} and {1} is {2}\".format(num1, num2, division(num1, num2)))\n",
    "else:\n",
    "    print(\"Invalid Choice\")"
   ]
  },
  {
   "cell_type": "markdown",
   "id": "afc74e50-f1ce-46ae-8375-4d2500e9d373",
   "metadata": {},
   "source": [
    "Arguments in a function\n",
    "--"
   ]
  },
  {
   "cell_type": "code",
   "execution_count": 48,
   "id": "2fe51ad3-aa65-407d-bd68-f91626363f75",
   "metadata": {},
   "outputs": [
    {
     "name": "stdout",
     "output_type": "stream",
     "text": [
      "Hello Suchit , welcome to the world of Python\n"
     ]
    }
   ],
   "source": [
    "def hello(name, msg):\n",
    "    \"\"\"\n",
    "    This function prints a message for a person\n",
    "    \"\"\"\n",
    "    print(\"Hello {0} , {1}\".format(name, msg))\n",
    "\n",
    "hello(\"Suchit\", \"welcome to the world of Python\")                  # Pass the arguments to the function\n"
   ]
  },
  {
   "cell_type": "code",
   "execution_count": 49,
   "id": "9250390a-3e37-46af-a787-dba32603c947",
   "metadata": {},
   "outputs": [
    {
     "ename": "TypeError",
     "evalue": "hello() missing 1 required positional argument: 'msg'",
     "output_type": "error",
     "traceback": [
      "\u001b[1;31m---------------------------------------------------------------------------\u001b[0m",
      "\u001b[1;31mTypeError\u001b[0m                                 Traceback (most recent call last)",
      "\u001b[1;32m<ipython-input-49-6e8bebb2c97a>\u001b[0m in \u001b[0;36m<module>\u001b[1;34m\u001b[0m\n\u001b[1;32m----> 1\u001b[1;33m \u001b[0mhello\u001b[0m\u001b[1;33m(\u001b[0m\u001b[1;34m\"Suchit\"\u001b[0m\u001b[1;33m)\u001b[0m\u001b[1;33m\u001b[0m\u001b[1;33m\u001b[0m\u001b[0m\n\u001b[0m",
      "\u001b[1;31mTypeError\u001b[0m: hello() missing 1 required positional argument: 'msg'"
     ]
    }
   ],
   "source": [
    "hello(\"Suchit\")    "
   ]
  },
  {
   "cell_type": "markdown",
   "id": "e9805ec7-5fe9-45e3-bf9d-b0374f045e5d",
   "metadata": {},
   "source": [
    "Different Forms of Arguments\n",
    "--\n",
    "\n",
    "1. Default Arguments\n",
    "---\n",
    "\n",
    "Provision to pass default value to an argument by using the assignment operator (=)."
   ]
  },
  {
   "cell_type": "code",
   "execution_count": 50,
   "id": "ef92d0b1-0855-4df5-a23c-ce833f4ded3c",
   "metadata": {},
   "outputs": [
    {
     "name": "stdout",
     "output_type": "stream",
     "text": [
      "Hello Suchit , welcome to the world of Data Science\n"
     ]
    }
   ],
   "source": [
    "def hello(name, msg=\"welcome to the world of Python\"):\n",
    "    \"\"\"\n",
    "    This function greets to person with the provided message\n",
    "    if message is not provided, it defaults to \"welcome to the world of Python\"\n",
    "    \"\"\"\n",
    "    print(\"Hello {0} , {1}\".format(name, msg))\n",
    "\n",
    "hello(\"Suchit\", \"welcome to the world of Data Science\")\n"
   ]
  },
  {
   "cell_type": "code",
   "execution_count": 51,
   "id": "4382eed1-894e-467a-8e60-24239f553413",
   "metadata": {},
   "outputs": [
    {
     "name": "stdout",
     "output_type": "stream",
     "text": [
      "Hello Suchit , welcome to the world of Python\n"
     ]
    }
   ],
   "source": [
    "hello(\"Suchit\")                             # Without the msg argument"
   ]
  },
  {
   "cell_type": "code",
   "execution_count": 52,
   "id": "5ae87e5f-b55f-4f3d-a587-511cdb4f6ce6",
   "metadata": {},
   "outputs": [
    {
     "ename": "SyntaxError",
     "evalue": "non-default argument follows default argument (<ipython-input-52-dc661f6bcd02>, line 1)",
     "output_type": "error",
     "traceback": [
      "\u001b[1;36m  File \u001b[1;32m\"<ipython-input-52-dc661f6bcd02>\"\u001b[1;36m, line \u001b[1;32m1\u001b[0m\n\u001b[1;33m    def hello(msg=\"Good Morning\", name):        # We will get a SyntaxError\u001b[0m\n\u001b[1;37m              ^\u001b[0m\n\u001b[1;31mSyntaxError\u001b[0m\u001b[1;31m:\u001b[0m non-default argument follows default argument\n"
     ]
    }
   ],
   "source": [
    "def hello(msg=\"Good Morning\", name):        # We will get a SyntaxError\n",
    "    print()"
   ]
  },
  {
   "cell_type": "markdown",
   "id": "7ea3f86d-4960-47f2-a960-99af4c1b5cba",
   "metadata": {},
   "source": [
    "2. Keyword Arguments\n",
    "---\n",
    "\n",
    "kwargs allows you to pass key identified variables in number of arguments to a function.\n",
    "You should use **kwargs if you want to handle named arguments in a function\n",
    "\n",
    "Example:\n",
    "def hello(**kwargs):\n",
    "    \"\"\""
   ]
  },
  {
   "cell_type": "code",
   "execution_count": null,
   "id": "b606512d-1b07-416f-8d63-5fba74e30755",
   "metadata": {},
   "outputs": [],
   "source": []
  }
 ],
 "metadata": {
  "kernelspec": {
   "display_name": "Python 3",
   "language": "python",
   "name": "python3"
  },
  "language_info": {
   "codemirror_mode": {
    "name": "ipython",
    "version": 3
   },
   "file_extension": ".py",
   "mimetype": "text/x-python",
   "name": "python",
   "nbconvert_exporter": "python",
   "pygments_lexer": "ipython3",
   "version": "3.8.8"
  }
 },
 "nbformat": 4,
 "nbformat_minor": 5
}
