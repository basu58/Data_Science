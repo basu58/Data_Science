{
 "cells": [
  {
   "cell_type": "code",
   "execution_count": 1,
   "id": "e9a3ae92-96de-41c8-8733-c6521764807f",
   "metadata": {},
   "outputs": [
    {
     "name": "stdout",
     "output_type": "stream",
     "text": [
      "The output will be displayed on the screen\n"
     ]
    }
   ],
   "source": [
    "print(\"The output will be displayed on the screen\")"
   ]
  },
  {
   "cell_type": "code",
   "execution_count": 2,
   "id": "8874618e-75f0-4c1d-bff0-7784f3c14607",
   "metadata": {},
   "outputs": [
    {
     "name": "stdout",
     "output_type": "stream",
     "text": [
      "The value of myInt is 400\n",
      "The value of myInt is 400\n"
     ]
    }
   ],
   "source": [
    "myInt = 400\n",
    "print(\"The value of myInt is\", myInt)\n",
    "print(\"The value of myInt is \" + str(myInt))    # If you wish to print the number in the string form"
   ]
  },
  {
   "cell_type": "code",
   "execution_count": 5,
   "id": "2d15f715-4726-4446-94ca-c7edcb1cda32",
   "metadata": {},
   "outputs": [
    {
     "name": "stdout",
     "output_type": "stream",
     "text": [
      "myInt1: 20 is the half of myInt2: 40\n"
     ]
    }
   ],
   "source": [
    "myInt1 = 20\n",
    "myInt2 = 40                                                \n",
    "\n",
    "print(\"myInt1: {} is the half of myInt2: {}\".format(myInt1, myInt2))    # Considers the Python provided default Type"
   ]
  },
  {
   "cell_type": "code",
   "execution_count": 6,
   "id": "efd96464-2e00-4f37-8093-ec01c3557653",
   "metadata": {},
   "outputs": [
    {
     "name": "stdout",
     "output_type": "stream",
     "text": [
      "myInt2: 40 is double of myInt1: 20\n"
     ]
    }
   ],
   "source": [
    "myInt1 = 20\n",
    "myInt2 = 40 \n",
    "\n",
    "print(\"myInt2: {1} is double of myInt1: {0}\".format(myInt1, myInt2))    # Considers position of arguments"
   ]
  },
  {
   "cell_type": "code",
   "execution_count": 7,
   "id": "0bb5092e-f9d5-49d4-b461-3cffa6febb8e",
   "metadata": {},
   "outputs": [
    {
     "name": "stdout",
     "output_type": "stream",
     "text": [
      "Welcome Suchit to the world of Data Science\n"
     ]
    }
   ],
   "source": [
    "# Use of keyword arguments to format the string\n",
    "print(\"Welcome {name} to the world of {ds}\".format(name=\"Suchit\", ds=\"Data Science\"))"
   ]
  },
  {
   "cell_type": "code",
   "execution_count": 9,
   "id": "6048ba87-e415-4a50-8744-f03a4fc93398",
   "metadata": {},
   "outputs": [
    {
     "name": "stdout",
     "output_type": "stream",
     "text": [
      "Welcome Basudev, to the world of Data Science. We are learning Python.\n"
     ]
    }
   ],
   "source": [
    "# Also a combination of positional arguments with keyword arguments is applicable\n",
    "print('Welcome {0}, to the world of {1}. We are learning {Subject}.'.format('Basudev', 'Data Science', Subject='Python'))"
   ]
  },
  {
   "cell_type": "code",
   "execution_count": 16,
   "id": "b35730ed-7ee1-4fa3-b3bd-aeb91282e976",
   "metadata": {},
   "outputs": [
    {
     "name": "stdout",
     "output_type": "stream",
     "text": [
      "+3.140000; -3.140000\n"
     ]
    }
   ],
   "source": [
    "print('{:+f}; {:+f}'.format(3.14, -3.14))  # show the signs "
   ]
  },
  {
   "cell_type": "code",
   "execution_count": 17,
   "id": "b626e074-88ae-44d6-8d3a-e121ee10dc58",
   "metadata": {},
   "outputs": [
    {
     "name": "stdin",
     "output_type": "stream",
     "text": [
      "Please enter some data:  xyz\n"
     ]
    },
    {
     "name": "stdout",
     "output_type": "stream",
     "text": [
      "You typed in:  xyz\n"
     ]
    }
   ],
   "source": [
    "userInput = input(\"Please enter some data: \")\n",
    "print(\"You typed in: \",userInput)"
   ]
  },
  {
   "cell_type": "code",
   "execution_count": 18,
   "id": "608d84d6-4689-4a6f-b63e-7631b436ccf2",
   "metadata": {},
   "outputs": [
    {
     "name": "stdin",
     "output_type": "stream",
     "text": [
      "Enter class strength:  15\n"
     ]
    },
    {
     "name": "stdout",
     "output_type": "stream",
     "text": [
      "You typed in:  15\n",
      "userInput type is :  <class 'str'>\n"
     ]
    }
   ],
   "source": [
    "userInput = input(\"Enter class strength: \")\n",
    "print(\"You typed in: \",userInput)\n",
    "print(\"userInput type is : \",type(userInput))"
   ]
  },
  {
   "cell_type": "code",
   "execution_count": null,
   "id": "d5012e95-ab2c-4647-9d9d-5eb3bc9d2c72",
   "metadata": {},
   "outputs": [],
   "source": []
  }
 ],
 "metadata": {
  "kernelspec": {
   "display_name": "Python 3",
   "language": "python",
   "name": "python3"
  },
  "language_info": {
   "codemirror_mode": {
    "name": "ipython",
    "version": 3
   },
   "file_extension": ".py",
   "mimetype": "text/x-python",
   "name": "python",
   "nbconvert_exporter": "python",
   "pygments_lexer": "ipython3",
   "version": "3.8.8"
  }
 },
 "nbformat": 4,
 "nbformat_minor": 5
}
