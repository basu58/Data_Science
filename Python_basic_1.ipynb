{
 "cells": [
  {
   "cell_type": "code",
   "execution_count": 1,
   "id": "d714f412-618b-44cb-8ecb-61f12b862c64",
   "metadata": {},
   "outputs": [
    {
     "name": "stdout",
     "output_type": "stream",
     "text": [
      "['False', 'None', 'True', 'and', 'as', 'assert', 'async', 'await', 'break', 'class', 'continue', 'def', 'del', 'elif', 'else', 'except', 'finally', 'for', 'from', 'global', 'if', 'import', 'in', 'is', 'lambda', 'nonlocal', 'not', 'or', 'pass', 'raise', 'return', 'try', 'while', 'with', 'yield']\n"
     ]
    }
   ],
   "source": [
    "import keyword\n",
    "print(keyword.kwlist)"
   ]
  },
  {
   "cell_type": "code",
   "execution_count": 4,
   "id": "3ba0f356-cc5f-44ac-9a1e-dc55aaa64b17",
   "metadata": {},
   "outputs": [
    {
     "name": "stdout",
     "output_type": "stream",
     "text": [
      "keywords in python 3.9.2 are: 35\n"
     ]
    }
   ],
   "source": [
    "# Number of keywords are \n",
    "print(\"keywords in python 3.9.2 are:\", len(keyword.kwlist))"
   ]
  },
  {
   "cell_type": "code",
   "execution_count": 5,
   "id": "7dafbc78-fbd4-42dc-82c2-4e764d8dff1c",
   "metadata": {},
   "outputs": [
    {
     "ename": "SyntaxError",
     "evalue": "invalid syntax (<ipython-input-5-8bbeb293f9f9>, line 1)",
     "output_type": "error",
     "traceback": [
      "\u001b[1;36m  File \u001b[1;32m\"<ipython-input-5-8bbeb293f9f9>\"\u001b[1;36m, line \u001b[1;32m1\u001b[0m\n\u001b[1;33m    99somename = 100      # Wrong way of defining identifiers\u001b[0m\n\u001b[1;37m      ^\u001b[0m\n\u001b[1;31mSyntaxError\u001b[0m\u001b[1;31m:\u001b[0m invalid syntax\n"
     ]
    }
   ],
   "source": [
    "99somename = 100      # Wrong way of defining identifiers"
   ]
  },
  {
   "cell_type": "code",
   "execution_count": 6,
   "id": "bdca0626-bf38-47e4-ab8f-7a55a88b7d46",
   "metadata": {},
   "outputs": [
    {
     "name": "stdout",
     "output_type": "stream",
     "text": [
      "100\n"
     ]
    }
   ],
   "source": [
    "somename99 = 100      # Right way of defining identifiers\n",
    "print(somename99)"
   ]
  },
  {
   "cell_type": "code",
   "execution_count": 7,
   "id": "c89eb8f7-1ab2-477a-bf38-bace3c254bdb",
   "metadata": {},
   "outputs": [
    {
     "ename": "SyntaxError",
     "evalue": "invalid syntax (<ipython-input-7-aba524504e22>, line 1)",
     "output_type": "error",
     "traceback": [
      "\u001b[1;36m  File \u001b[1;32m\"<ipython-input-7-aba524504e22>\"\u001b[1;36m, line \u001b[1;32m1\u001b[0m\n\u001b[1;33m    break = 1             # Cannot use keyword as identifiers\u001b[0m\n\u001b[1;37m          ^\u001b[0m\n\u001b[1;31mSyntaxError\u001b[0m\u001b[1;31m:\u001b[0m invalid syntax\n"
     ]
    }
   ],
   "source": [
    "break = 1             # Cannot use keyword as identifiers"
   ]
  },
  {
   "cell_type": "code",
   "execution_count": 8,
   "id": "98d4b4e1-4f1e-47dd-968a-c6b27a897178",
   "metadata": {},
   "outputs": [
    {
     "ename": "SyntaxError",
     "evalue": "invalid syntax (<ipython-input-8-5e6aa59d47a3>, line 1)",
     "output_type": "error",
     "traceback": [
      "\u001b[1;36m  File \u001b[1;32m\"<ipython-input-8-5e6aa59d47a3>\"\u001b[1;36m, line \u001b[1;32m1\u001b[0m\n\u001b[1;33m    hello@ = 10           #can't use special symbols as an identifier\u001b[0m\n\u001b[1;37m           ^\u001b[0m\n\u001b[1;31mSyntaxError\u001b[0m\u001b[1;31m:\u001b[0m invalid syntax\n"
     ]
    }
   ],
   "source": [
    "hello@ = 10           #can't use special symbols as an identifier"
   ]
  },
  {
   "cell_type": "code",
   "execution_count": 9,
   "id": "dc7c302b-f6fb-4963-a006-280cf3e429d1",
   "metadata": {},
   "outputs": [
    {
     "name": "stdout",
     "output_type": "stream",
     "text": [
      "hello:  1\n",
      "hello123:  1\n",
      "hello_1:  1\n"
     ]
    }
   ],
   "source": [
    "hello = 1\n",
    "print('hello: ',hello)\n",
    "\n",
    "hello123 = 1\n",
    "print('hello123: ',hello123)\n",
    "\n",
    "hello_1 = 1\n",
    "print('hello_1: ',hello_1)"
   ]
  },
  {
   "cell_type": "code",
   "execution_count": 10,
   "id": "3995a05c-ceb5-4a85-9867-05fb690d0412",
   "metadata": {},
   "outputs": [],
   "source": [
    "# This is a single line comment. Has no effect on the code below\n",
    "abd = 10"
   ]
  },
  {
   "cell_type": "code",
   "execution_count": 11,
   "id": "a56418d5-e497-46ae-9aac-ca62931ea889",
   "metadata": {},
   "outputs": [
    {
     "name": "stdout",
     "output_type": "stream",
     "text": [
      "400\n"
     ]
    }
   ],
   "source": [
    "def square(num):\n",
    "    \"\"\"\n",
    "    Function to square a number. \n",
    "    Print this docstring using __doc__ attribute of the function\n",
    "    \"\"\"\n",
    "    return num * num\n",
    "\n",
    "print(square(20))"
   ]
  },
  {
   "cell_type": "code",
   "execution_count": 12,
   "id": "61c107b9-5148-4030-a3be-f503090addcd",
   "metadata": {},
   "outputs": [
    {
     "name": "stdout",
     "output_type": "stream",
     "text": [
      "\n",
      "    Function to square a number. \n",
      "    Print this docstring using __doc__ attribute of the function\n",
      "    \n"
     ]
    }
   ],
   "source": [
    "print(square.__doc__)      # To print the docstring of a function use the __doc__ attribute of the function"
   ]
  },
  {
   "cell_type": "code",
   "execution_count": 13,
   "id": "de28b852-6418-4e9f-9562-84319c306251",
   "metadata": {},
   "outputs": [
    {
     "data": {
      "text/plain": [
       "<function __main__.square(num)>"
      ]
     },
     "execution_count": 13,
     "metadata": {},
     "output_type": "execute_result"
    }
   ],
   "source": [
    "square                     # Press shift+tab to view the docstring"
   ]
  },
  {
   "cell_type": "code",
   "execution_count": 14,
   "id": "138ce873-8cba-4fdd-98cf-7ee8374276e4",
   "metadata": {},
   "outputs": [
    {
     "ename": "IndentationError",
     "evalue": "unexpected indent (<ipython-input-14-0c3bb24a507a>, line 2)",
     "output_type": "error",
     "traceback": [
      "\u001b[1;36m  File \u001b[1;32m\"<ipython-input-14-0c3bb24a507a>\"\u001b[1;36m, line \u001b[1;32m2\u001b[0m\n\u001b[1;33m    variable2 = 20          # Logical continuation disrupted\u001b[0m\n\u001b[1;37m    ^\u001b[0m\n\u001b[1;31mIndentationError\u001b[0m\u001b[1;31m:\u001b[0m unexpected indent\n"
     ]
    }
   ],
   "source": [
    "variable1 = 10\n",
    "  variable2 = 20          # Logical continuation disrupted"
   ]
  },
  {
   "cell_type": "code",
   "execution_count": 15,
   "id": "115344c6-a428-4d51-8af9-698d8a621b9f",
   "metadata": {},
   "outputs": [],
   "source": [
    "variable1 = 10\n",
    "variable2 = 20"
   ]
  },
  {
   "cell_type": "code",
   "execution_count": 16,
   "id": "f3fab17c-2fbb-42b1-8b90-8ed223e05a4b",
   "metadata": {},
   "outputs": [
    {
     "name": "stdout",
     "output_type": "stream",
     "text": [
      "1\n",
      "2\n",
      "3\n"
     ]
    }
   ],
   "source": [
    "for i in range (1,4):\n",
    "    print(i)              # Logical continuation maintained"
   ]
  },
  {
   "cell_type": "code",
   "execution_count": 17,
   "id": "db5e6850-fd42-4b1c-b229-75e737f64201",
   "metadata": {},
   "outputs": [
    {
     "name": "stdout",
     "output_type": "stream",
     "text": [
      "1\n",
      "2\n",
      "3\n"
     ]
    }
   ],
   "source": [
    "variable1=10;variable2=20                   # Everything could be in one line but less readable. Multiple statement in one line\n",
    "\n",
    "for i in range (1,4): print(i)              # Everything could be in one line but less readable"
   ]
  },
  {
   "cell_type": "code",
   "execution_count": 18,
   "id": "24933626-1556-48f1-9984-cf450099eefb",
   "metadata": {},
   "outputs": [],
   "source": [
    "number = 10"
   ]
  },
  {
   "cell_type": "code",
   "execution_count": 19,
   "id": "55820c0f-4393-4db1-a1c1-0b6e0378e059",
   "metadata": {},
   "outputs": [
    {
     "name": "stdout",
     "output_type": "stream",
     "text": [
      "150\n"
     ]
    }
   ],
   "source": [
    "number = 10 + 20 + \\\n",
    "         30 + 40 + \\\n",
    "         50\n",
    "    \n",
    "print(number)"
   ]
  },
  {
   "cell_type": "code",
   "execution_count": 20,
   "id": "b1cfb88e-78e8-4d15-a033-213a304789d9",
   "metadata": {},
   "outputs": [
    {
     "name": "stdout",
     "output_type": "stream",
     "text": [
      "150\n"
     ]
    }
   ],
   "source": [
    "number = (10 + 20 + \n",
    "         30 + 40 + \n",
    "         50)\n",
    "    \n",
    "print(number)"
   ]
  },
  {
   "cell_type": "code",
   "execution_count": null,
   "id": "539a82af-b7ce-43e1-8340-49875ad8b3b2",
   "metadata": {},
   "outputs": [],
   "source": []
  }
 ],
 "metadata": {
  "kernelspec": {
   "display_name": "Python 3",
   "language": "python",
   "name": "python3"
  },
  "language_info": {
   "codemirror_mode": {
    "name": "ipython",
    "version": 3
   },
   "file_extension": ".py",
   "mimetype": "text/x-python",
   "name": "python",
   "nbconvert_exporter": "python",
   "pygments_lexer": "ipython3",
   "version": "3.8.8"
  }
 },
 "nbformat": 4,
 "nbformat_minor": 5
}
