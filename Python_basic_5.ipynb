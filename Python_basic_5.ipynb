{
 "cells": [
  {
   "cell_type": "code",
   "execution_count": 1,
   "id": "1d67d66c-abb6-4998-972c-f142d25287e9",
   "metadata": {},
   "outputs": [
    {
     "name": "stdout",
     "output_type": "stream",
     "text": [
      "[[45, 3.2], [12, 4.2]]\n"
     ]
    }
   ],
   "source": [
    "blankList = []                                      # Declare an empty List\n",
    "\n",
    "listOfString = ['apple','banana']                  # List of strings\n",
    "\n",
    "listOfNumbers = [12, 7.6,30,64]                   # List of integers\n",
    "\n",
    "listOfList = [[45, 3.2],[12, 4.2]]                  # List of lists\n",
    "\n",
    "listOfMixedDataTypes = [55.4, 'Bill', 232, 14.4]     # List of different datatypes\n",
    "\n",
    "print(listOfList)"
   ]
  },
  {
   "cell_type": "code",
   "execution_count": 2,
   "id": "70346425-9d0d-4384-bcec-979e0ef00e9c",
   "metadata": {},
   "outputs": [
    {
     "name": "stdout",
     "output_type": "stream",
     "text": [
      "4\n"
     ]
    }
   ],
   "source": [
    "lstOfMixedDataTypes = [55.4, 'Bill', 232, 14.4]\n",
    "\n",
    "print(len(listOfMixedDataTypes))  "
   ]
  },
  {
   "cell_type": "code",
   "execution_count": 3,
   "id": "52b88057-da50-4090-83fa-deee9ae5bedb",
   "metadata": {},
   "outputs": [
    {
     "name": "stdout",
     "output_type": "stream",
     "text": [
      "[12, 7.6, 30, 64, 'Appended Element']\n"
     ]
    }
   ],
   "source": [
    "listOfNumbers = [12, 7.6, 30, 64] \n",
    "\n",
    "listOfNumbers.append('Appended Element')             # append function will add the item at the end\n",
    "\n",
    "print(listOfNumbers)"
   ]
  },
  {
   "cell_type": "code",
   "execution_count": 4,
   "id": "b02fc1f8-2e74-4733-b151-db033d45f457",
   "metadata": {},
   "outputs": [
    {
     "name": "stdout",
     "output_type": "stream",
     "text": [
      "[55.4, 'Bill', 'Gates', 232, 14.4]\n"
     ]
    }
   ],
   "source": [
    "lstOfMixedDataTypes = [55.4, 'Bill', 232, 14.4]\n",
    "\n",
    "listOfMixedDataTypes.insert(2,'Gates')              # Will add 'Gates' at location 2\n",
    "\n",
    "print(listOfMixedDataTypes)              # Use the insert() method"
   ]
  },
  {
   "cell_type": "code",
   "execution_count": 5,
   "id": "d9f9bb7b-d8a6-458f-a4f9-93c64bab6d48",
   "metadata": {},
   "outputs": [
    {
     "name": "stdout",
     "output_type": "stream",
     "text": [
      "[55.4, 'Bill', 14.4, 232]\n"
     ]
    }
   ],
   "source": [
    "lstOfMixedDataTypes = [55.4, 'Bill', 232, 14.4, 232]\n",
    "\n",
    "lstOfMixedDataTypes.remove(232)                   # remove() - removes the first occurence of 232 in the list\n",
    "\n",
    "print(lstOfMixedDataTypes)"
   ]
  },
  {
   "cell_type": "code",
   "execution_count": 6,
   "id": "c10d20dd-7a33-41d0-93d4-e46755ad45b6",
   "metadata": {},
   "outputs": [
    {
     "name": "stdout",
     "output_type": "stream",
     "text": [
      "[55.4, 'Bill', 232, 14.4, [12, 7.6, 30, 64]]\n",
      "5\n"
     ]
    }
   ],
   "source": [
    "lstOfMixedDataTypes = [55.4, 'Bill', 232, 14.4]\n",
    "\n",
    "listOfNumbers = [12, 7.6, 30, 64]\n",
    "\n",
    "lstOfMixedDataTypes.append(listOfNumbers)                 # Using the append() method\n",
    "\n",
    "print(lstOfMixedDataTypes)\n",
    "\n",
    "print(len(lstOfMixedDataTypes))"
   ]
  },
  {
   "cell_type": "code",
   "execution_count": 7,
   "id": "932831fb-0f55-436b-98a0-9908106c24a0",
   "metadata": {},
   "outputs": [
    {
     "name": "stdout",
     "output_type": "stream",
     "text": [
      "[55.4, 'Bill', 232, 14.4, 12, 7.6, 30, 64]\n",
      "8\n"
     ]
    }
   ],
   "source": [
    "lstOfMixedDataTypes = [55.4, 'Bill', 232, 14.4]\n",
    "\n",
    "listOfNumbers = [12, 7.6, 30, 64]\n",
    "\n",
    "lstOfMixedDataTypes.extend(listOfNumbers)                 # Using the extend() method\n",
    "\n",
    "print(lstOfMixedDataTypes)\n",
    "\n",
    "print(len(lstOfMixedDataTypes))"
   ]
  },
  {
   "cell_type": "code",
   "execution_count": 8,
   "id": "6df970eb-7100-4045-8af2-884abeb77b3c",
   "metadata": {},
   "outputs": [
    {
     "name": "stdout",
     "output_type": "stream",
     "text": [
      "[55.4, 'Bill', 232, 14.4]\n",
      "Bill\n",
      "[55.4, 232, 14.4]\n"
     ]
    }
   ],
   "source": [
    "lstOfMixedDataTypes = [55.4, 'Bill', 232, 14.4]\n",
    "\n",
    "#del lstOfMixedDataTypes[2]                     # Using del keyword - index\n",
    "#del lstOfMixedDataTypes[1:3]                  # Using del keyword\n",
    "print(lstOfMixedDataTypes)\n",
    "\n",
    "\n",
    "itemDeleted = lstOfMixedDataTypes.pop(1)        # Using pop function - index\n",
    "print(itemDeleted)\n",
    "\n",
    "print(lstOfMixedDataTypes)"
   ]
  },
  {
   "cell_type": "code",
   "execution_count": 9,
   "id": "844a2525-e058-45df-815f-13c61977eb4e",
   "metadata": {},
   "outputs": [
    {
     "name": "stdout",
     "output_type": "stream",
     "text": [
      "[55.4, 'Bill', 14.4]\n"
     ]
    }
   ],
   "source": [
    "lstOfMixedDataTypes = [55.4, 'Bill', 232, 14.4]\n",
    "\n",
    "\n",
    "lstOfMixedDataTypes.remove(232)                 # Using remove function - value\n",
    "\n",
    "print(lstOfMixedDataTypes)"
   ]
  },
  {
   "cell_type": "code",
   "execution_count": 10,
   "id": "dd489ac8-aa10-4ab4-a7e2-45c48a2ad6f6",
   "metadata": {},
   "outputs": [
    {
     "name": "stdout",
     "output_type": "stream",
     "text": [
      "Found in list\n",
      "Not in the list\n"
     ]
    }
   ],
   "source": [
    "lstOfMixedDataTypes = [55.4, 'Bill', 232, 14.4]\n",
    "\n",
    "if 'Bill' in lstOfMixedDataTypes:\n",
    "    print('Found in list')\n",
    "    \n",
    "if 131 not in lstOfMixedDataTypes:\n",
    "    print('Not in the list')"
   ]
  },
  {
   "cell_type": "code",
   "execution_count": 11,
   "id": "46ccb15f-7ee6-4137-ad96-c9a72d24271e",
   "metadata": {},
   "outputs": [
    {
     "name": "stdout",
     "output_type": "stream",
     "text": [
      "[55.4, 'Bill', 232, 14.4]\n",
      "[14.4, 232, 'Bill', 55.4]\n"
     ]
    }
   ],
   "source": [
    "lstOfMixedDataTypes = [55.4, 'Bill', 232, 14.4]\n",
    "\n",
    "print(lstOfMixedDataTypes)\n",
    "\n",
    "lstOfMixedDataTypes.reverse()\n",
    "\n",
    "print(lstOfMixedDataTypes)"
   ]
  },
  {
   "cell_type": "code",
   "execution_count": 12,
   "id": "e900085c-2b08-4267-996a-0156ab4ff3e4",
   "metadata": {},
   "outputs": [
    {
     "name": "stdout",
     "output_type": "stream",
     "text": [
      "[4, 7, 12, 12, 29]\n",
      "[29, 12, 4, 7, 12]\n"
     ]
    }
   ],
   "source": [
    "myList = [29, 12, 4, 7, 12]\n",
    "\n",
    "sorted_list = sorted(myList)\n",
    "#lstOfMixedDataTypes = [55.4, 'Bill', 232, 14.4]          # Sort only compatible types\n",
    "#sorted_lst = sorted(lstOfMixedDataTypes)\n",
    "\n",
    "print(sorted_list)\n",
    "\n",
    "print(myList)                          # Original list is unchanged"
   ]
  },
  {
   "cell_type": "code",
   "execution_count": 13,
   "id": "112bb81f-4697-48fc-b1cc-8aac2a252962",
   "metadata": {},
   "outputs": [
    {
     "name": "stdout",
     "output_type": "stream",
     "text": [
      "Reverse sorted list : [29, 12, 12, 7, 4]\n",
      "[29, 12, 4, 7, 12]\n"
     ]
    }
   ],
   "source": [
    "print(\"Reverse sorted list :\", sorted(myList, reverse=True))  # Reverse sort a list\n",
    "\n",
    "print(myList)          "
   ]
  },
  {
   "cell_type": "code",
   "execution_count": 14,
   "id": "8e71fec5-bc93-45fd-88b3-2e10349915da",
   "metadata": {},
   "outputs": [
    {
     "name": "stdout",
     "output_type": "stream",
     "text": [
      "[4, 7, 12, 12, 29]\n"
     ]
    }
   ],
   "source": [
    "myList = [29, 12, 4, 7, 12]                       # Reverse and change the original list\n",
    "myList.sort()\n",
    "\n",
    "print(myList)"
   ]
  },
  {
   "cell_type": "code",
   "execution_count": 17,
   "id": "7bb36873-f079-463b-b8cf-f94587e30f87",
   "metadata": {},
   "outputs": [
    {
     "name": "stdout",
     "output_type": "stream",
     "text": [
      "Original list:  [1, 2, 3, 4, 5, 6]\n",
      "Reference list:  [1, 2, 3, 4, 5, 6]\n"
     ]
    }
   ],
   "source": [
    "myList = [1, 2, 3, 4, 5]\n",
    "newRef = myList\n",
    "newRef.append(6)\n",
    "\n",
    "print('Original list: ', myList)\n",
    "print('Reference list: ', newRef)"
   ]
  },
  {
   "cell_type": "code",
   "execution_count": 18,
   "id": "7e35a8fc-de8a-4b8a-b9a1-8a2630aa0883",
   "metadata": {},
   "outputs": [
    {
     "name": "stdout",
     "output_type": "stream",
     "text": [
      "['apple', 'banana', 'grapes']\n"
     ]
    }
   ],
   "source": [
    "myString = \"apple,banana,grapes\"\n",
    "splitList = myString.split(',')\n",
    "print(splitList)"
   ]
  },
  {
   "cell_type": "code",
   "execution_count": 19,
   "id": "726e44e9-8c42-4cc2-a7c1-b402d262c820",
   "metadata": {},
   "outputs": [
    {
     "name": "stdout",
     "output_type": "stream",
     "text": [
      "['Let', 'us', 'split', 'this', 'string']\n"
     ]
    }
   ],
   "source": [
    "myString = \"Let us split this string\"\n",
    "splitList = myString.split()                   # By default split is on - space or tab\n",
    "print(splitList)"
   ]
  },
  {
   "cell_type": "code",
   "execution_count": 21,
   "id": "f6fa43e7-a0e9-402e-8c35-c5d2adf5e2dd",
   "metadata": {},
   "outputs": [
    {
     "name": "stdout",
     "output_type": "stream",
     "text": [
      "29\n",
      "7\n"
     ]
    }
   ],
   "source": [
    "myList = [29, 12, 4, 7, 12]\n",
    "\n",
    "print(myList[0])                       # Access the first element from start\n",
    "\n",
    "print(myList[-2])                      # Access the elements from the last"
   ]
  },
  {
   "cell_type": "code",
   "execution_count": 22,
   "id": "a3ba2324-3320-4a5c-9360-3a906e5bca45",
   "metadata": {},
   "outputs": [
    {
     "name": "stdout",
     "output_type": "stream",
     "text": [
      "[43, 2, 'Hundred', 13, 'Four', 12, 100]\n",
      "[43, 2, 'Hundred']\n"
     ]
    }
   ],
   "source": [
    "listOfItems = [43, 2, 'Hundred', 13, 'Four',12 ,100]\n",
    "\n",
    "print(listOfItems[:])                                # Empty indicates from start : to end\n",
    "\n",
    "print(listOfItems[0:3])                              # Elements from index 0 to one index less than index 3\n"
   ]
  },
  {
   "cell_type": "code",
   "execution_count": 23,
   "id": "64b7c80a-59b0-4d9c-8174-ff6b958c9971",
   "metadata": {},
   "outputs": [
    {
     "name": "stdout",
     "output_type": "stream",
     "text": [
      "[43, 2, 'Hundred', 13, 'Four', 12, 100]\n",
      "[43, 'Hundred', 'Four', 100]\n",
      "['Hundred', 'Four', 100]\n"
     ]
    }
   ],
   "source": [
    "print (listOfItems)\n",
    "\n",
    "print(listOfItems[::2])                                  # Stride for skipping elements\n",
    "\n",
    "print(listOfItems[2::2])                                 # print elemnts start from 0 through rest of the list\n"
   ]
  },
  {
   "cell_type": "code",
   "execution_count": 24,
   "id": "10d73536-f1f3-4c8a-ba92-3366438223e5",
   "metadata": {},
   "outputs": [
    {
     "name": "stdout",
     "output_type": "stream",
     "text": [
      "[43, 2, 'Hundred', 13, 'Four', 12, 100, 'Hello', 19, 'One', 11]\n"
     ]
    }
   ],
   "source": [
    "listOfItems1 = [43, 2, 'Hundred', 13, 'Four',12 ,100]\n",
    "listOfItems2 = ['Hello', 19, 'One', 11]\n",
    "joinedList = listOfItems1 + listOfItems2 \n",
    "\n",
    "print(joinedList)"
   ]
  },
  {
   "cell_type": "code",
   "execution_count": 25,
   "id": "86fd4df4-c0ae-453b-b033-4c9790ab2336",
   "metadata": {},
   "outputs": [
    {
     "name": "stdout",
     "output_type": "stream",
     "text": [
      "2\n",
      "1\n"
     ]
    }
   ],
   "source": [
    "listOfItems3 = [12, 43, 2, 'Hundred', 13, 'Four',12 ,100]\n",
    "\n",
    "print(listOfItems3.count(12))                           # Count number of 12 in the list\n",
    "\n",
    "print(listOfItems3.count('Hundred'))                    # Count number of 'Hundred' in a list"
   ]
  },
  {
   "cell_type": "code",
   "execution_count": 26,
   "id": "f48dc7bc-f2cb-4a6f-bf31-989fc6d918f8",
   "metadata": {},
   "outputs": [
    {
     "name": "stdout",
     "output_type": "stream",
     "text": [
      "12\n",
      "43\n",
      "2\n",
      "Hundred\n",
      "13\n",
      "Four\n",
      "12\n",
      "100\n"
     ]
    }
   ],
   "source": [
    "listOfItems3 = [12, 43, 2, 'Hundred', 13, 'Four',12 ,100]\n",
    "\n",
    "for element in listOfItems3:\n",
    "    print(element)"
   ]
  },
  {
   "cell_type": "code",
   "execution_count": 27,
   "id": "3d82eb85-8f22-4947-91d4-67de9c2c4cfd",
   "metadata": {},
   "outputs": [
    {
     "name": "stdout",
     "output_type": "stream",
     "text": [
      "[0, 1, 4, 9]\n"
     ]
    }
   ],
   "source": [
    "myList = []               # Normal way to create an empty List\n",
    "\n",
    "for i in range(4): # Append the squared element to the list\n",
    "    myList.append(i**2)\n",
    "print(myList)"
   ]
  },
  {
   "cell_type": "code",
   "execution_count": 28,
   "id": "a0f83023-690b-4e19-b38c-62570de2bba6",
   "metadata": {},
   "outputs": [
    {
     "name": "stdout",
     "output_type": "stream",
     "text": [
      "[0, 1, 4, 9]\n"
     ]
    }
   ],
   "source": [
    "# Simlify using list comprehension\n",
    "myList = [i**2 for i in range(4)]\n",
    "print(myList)"
   ]
  },
  {
   "cell_type": "code",
   "execution_count": 29,
   "id": "770d7c20-54c2-4a81-8501-1474ef1ad161",
   "metadata": {},
   "outputs": [
    {
     "name": "stdout",
     "output_type": "stream",
     "text": [
      "[[0, 1, 2], [0, 1, 2], [0, 1, 2], [0, 1, 2]]\n"
     ]
    }
   ],
   "source": [
    "matrix = [[0, 1, 2],\n",
    "          [0, 1, 2],\n",
    "          [0, 1, 2],\n",
    "          [0, 1, 2]]\n",
    "\n",
    "sameList = []                         # Recreate the above matrix in the normal way\n",
    "for i in range(4):\n",
    "    rowList = []\n",
    "    for j in range(3):\n",
    "        rowList.append(j)\n",
    "    sameList.append(rowList)\n",
    "print(sameList)"
   ]
  },
  {
   "cell_type": "code",
   "execution_count": 30,
   "id": "62d244ab-8755-4559-be49-1e474a585e3d",
   "metadata": {},
   "outputs": [
    {
     "name": "stdout",
     "output_type": "stream",
     "text": [
      "[[0, 1, 2], [0, 1, 2], [0, 1, 2], [0, 1, 2]]\n"
     ]
    }
   ],
   "source": [
    "myMatrix = []\n",
    "[myMatrix.append([j for j in range(3)]) for i in range(4)]       # Reconstruct the matrix using list comprehension\n",
    "print(myMatrix)"
   ]
  },
  {
   "cell_type": "code",
   "execution_count": 31,
   "id": "2f75e976-269b-4404-9e2e-b22bc18b3367",
   "metadata": {},
   "outputs": [
    {
     "name": "stdout",
     "output_type": "stream",
     "text": [
      "[1, 4, 9, 16, 25, 36, 64]\n",
      "[(1, 1), (2, 2), (3, 3), (4, 4), (5, 5), (6, 6), (8, 8)]\n",
      "[4, 6, 8]\n",
      "[[0.5, 1.0, 1.5], [2.0, 2.5, 3.0], [3.5, 4.0, 4.5]]\n"
     ]
    }
   ],
   "source": [
    "myList = [1, 2, 3, 4, 5, 6, 8]\n",
    "\n",
    "newList = [i**2 for i in myList]                                    # Square the values of myList and store in a new list\n",
    "print(newList)\n",
    "\n",
    "newList = [(i,i) for i in myList]                                   # Make a combination of x and x values e.g. (x,x)\n",
    "print(newList)\n",
    "\n",
    "newList = [even for even in myList if even%2 == 0 and even != 2]     # Store only the even numbers greater than 2\n",
    "print(newList)\n",
    "\n",
    "newList = []\n",
    "[newList.append([(i+j)/2 for j in range(0,3)]) for i in range(1,10,3)]    # Create a 3*3 matrix that stores half of number from 1 to 9\n",
    "\n",
    "print(newList)"
   ]
  },
  {
   "cell_type": "code",
   "execution_count": 33,
   "id": "96cc6f23-9b68-45fb-b187-5bebeeebd31e",
   "metadata": {},
   "outputs": [
    {
     "name": "stdout",
     "output_type": "stream",
     "text": [
      "(12.2, 100, 12)\n",
      "('x', 'y', 100, 'h')\n",
      "('Hello', 100, ('Welcome', 12, 11), [90, 'same', 26, 'array'])\n"
     ]
    }
   ],
   "source": [
    "emptyTuple = ()                      # Create an empty tuple\n",
    "\n",
    "myNumberTuple = (12.2, 100, 12)      # Create a tuple having numbers\n",
    "print(myNumberTuple)\n",
    "\n",
    "myMixedTuple = ('x', 'y', 100, 'h')  # Create a mixed data types tuple\n",
    "print(myMixedTuple)\n",
    "\n",
    "myNestedTuple = ('Hello', 100, ('Welcome', 12, 11), [90,'same',26,'array'])     # Create a nested tuple\n",
    "print(myNestedTuple)"
   ]
  },
  {
   "cell_type": "code",
   "execution_count": 34,
   "id": "b44cd499-2ba1-425d-9bf1-c19c512b8d08",
   "metadata": {},
   "outputs": [
    {
     "name": "stdout",
     "output_type": "stream",
     "text": [
      "<class 'str'>\n"
     ]
    }
   ],
   "source": [
    "isItTuple = ('Suchit')               # Only parenthesis is not enough\n",
    "print(type(isItTuple))"
   ]
  },
  {
   "cell_type": "code",
   "execution_count": 35,
   "id": "5a5119ca-ed66-4499-940a-f0c69fdc7ae2",
   "metadata": {},
   "outputs": [
    {
     "name": "stdout",
     "output_type": "stream",
     "text": [
      "<class 'tuple'>\n"
     ]
    }
   ],
   "source": [
    "isItTuple = ('Suchit',)              # Put a comma at the end to denote Tuple\n",
    "print(type(isItTuple))"
   ]
  },
  {
   "cell_type": "code",
   "execution_count": 36,
   "id": "75bf6847-78fe-4e4d-8229-3bb288b1ed49",
   "metadata": {},
   "outputs": [
    {
     "name": "stdout",
     "output_type": "stream",
     "text": [
      "Shireen\n"
     ]
    }
   ],
   "source": [
    "myTuple = ('Suchit', 'Rakesh', 'Roshni', 'Shireen')\n",
    "\n",
    "print(myTuple[3])"
   ]
  },
  {
   "cell_type": "code",
   "execution_count": 37,
   "id": "097088ea-c8bf-4d4d-bdfb-f7117dcdcc1a",
   "metadata": {},
   "outputs": [
    {
     "name": "stdout",
     "output_type": "stream",
     "text": [
      "Shireen\n"
     ]
    }
   ],
   "source": [
    "print(myTuple[-1])                            # Printing the last element in a tuple - Negative index"
   ]
  },
  {
   "cell_type": "code",
   "execution_count": 38,
   "id": "7f4f4014-38b5-41d6-bc4f-3eb2538b582c",
   "metadata": {},
   "outputs": [
    {
     "name": "stdout",
     "output_type": "stream",
     "text": [
      "('Rakesh', 'Roshni', 'Shireen')\n"
     ]
    }
   ],
   "source": [
    "myTuple = ('Suchit', ('Rakesh', 'Roshni', 'Shireen'))       # Nested tuple\n",
    "\n",
    "print(myTuple[1])"
   ]
  },
  {
   "cell_type": "code",
   "execution_count": 39,
   "id": "5db5b96c-89cf-4173-b80f-61e5bdf23587",
   "metadata": {},
   "outputs": [
    {
     "name": "stdout",
     "output_type": "stream",
     "text": [
      "Shireen\n"
     ]
    }
   ],
   "source": [
    "print(myTuple[1][2])"
   ]
  },
  {
   "cell_type": "code",
   "execution_count": 40,
   "id": "c2858117-e621-46c6-a3d1-3cb043c4a8b9",
   "metadata": {},
   "outputs": [
    {
     "name": "stdout",
     "output_type": "stream",
     "text": [
      "(12, 13, 14)\n",
      "(13, 14, 15)\n",
      "(10, 11, 12, 13, 14, 15)\n"
     ]
    }
   ],
   "source": [
    "myTuple = (10,11,12,13,14,15)\n",
    "\n",
    "print(myTuple[2:5])                           # Slicing elements\n",
    "\n",
    "print(myTuple[-3:])                           # Print elements from starting to 3rd last elements\n",
    "\n",
    "print(myTuple[:])                             # Print all elements"
   ]
  },
  {
   "cell_type": "code",
   "execution_count": 41,
   "id": "b2daee2d-db79-4872-9e6f-900df46031e1",
   "metadata": {},
   "outputs": [
    {
     "ename": "TypeError",
     "evalue": "'tuple' object does not support item assignment",
     "output_type": "error",
     "traceback": [
      "\u001b[1;31m---------------------------------------------------------------------------\u001b[0m",
      "\u001b[1;31mTypeError\u001b[0m                                 Traceback (most recent call last)",
      "\u001b[1;32m<ipython-input-41-5097c58e6203>\u001b[0m in \u001b[0;36m<module>\u001b[1;34m\u001b[0m\n\u001b[0;32m      1\u001b[0m \u001b[0mmyTuple\u001b[0m \u001b[1;33m=\u001b[0m \u001b[1;33m(\u001b[0m\u001b[1;36m11\u001b[0m\u001b[1;33m,\u001b[0m \u001b[1;36m22\u001b[0m\u001b[1;33m,\u001b[0m \u001b[1;36m33\u001b[0m\u001b[1;33m,\u001b[0m \u001b[1;36m44\u001b[0m\u001b[1;33m,\u001b[0m \u001b[1;33m[\u001b[0m\u001b[1;36m55\u001b[0m\u001b[1;33m,\u001b[0m \u001b[1;36m66\u001b[0m\u001b[1;33m,\u001b[0m \u001b[1;36m77\u001b[0m\u001b[1;33m]\u001b[0m\u001b[1;33m)\u001b[0m                       \u001b[1;31m# Creating tuple\u001b[0m\u001b[1;33m\u001b[0m\u001b[1;33m\u001b[0m\u001b[0m\n\u001b[0;32m      2\u001b[0m \u001b[1;33m\u001b[0m\u001b[0m\n\u001b[1;32m----> 3\u001b[1;33m \u001b[0mmyTuple\u001b[0m\u001b[1;33m[\u001b[0m\u001b[1;36m1\u001b[0m\u001b[1;33m]\u001b[0m \u001b[1;33m=\u001b[0m \u001b[1;36m4\u001b[0m                                           \u001b[1;31m# Error: TypeError\u001b[0m\u001b[1;33m\u001b[0m\u001b[1;33m\u001b[0m\u001b[0m\n\u001b[0m",
      "\u001b[1;31mTypeError\u001b[0m: 'tuple' object does not support item assignment"
     ]
    }
   ],
   "source": [
    "myTuple = (11, 22, 33, 44, [55, 66, 77])                       # Creating tuple\n",
    "\n",
    "myTuple[1] = 4                                           # Error: TypeError"
   ]
  },
  {
   "cell_type": "code",
   "execution_count": 42,
   "id": "5de19bec-11ab-43b0-8d12-47936bf3db19",
   "metadata": {},
   "outputs": [
    {
     "name": "stdout",
     "output_type": "stream",
     "text": [
      "2359050415376\n",
      "2359050415376\n",
      "(11, 22, 33, 44, [55, 66, 'Suchit'])\n"
     ]
    }
   ],
   "source": [
    "print(id(myTuple))\n",
    "myTuple[4][2] = 'Suchit'                       # List is mutable hence value can be altered\n",
    "print(id(myTuple))\n",
    "print(myTuple)"
   ]
  },
  {
   "cell_type": "code",
   "execution_count": 43,
   "id": "075401ae-8269-45f0-9b93-7219648d0ca9",
   "metadata": {},
   "outputs": [
    {
     "name": "stdout",
     "output_type": "stream",
     "text": [
      "(11, 22, 33, 44, 55, 66)\n"
     ]
    }
   ],
   "source": [
    "#concatinating tuples\n",
    "\n",
    "myTuple = (11, 22, 33) + (44, 55, 66)\n",
    "print(myTuple)"
   ]
  },
  {
   "cell_type": "code",
   "execution_count": 44,
   "id": "9daed812-9c27-4bd2-b0ae-be612cbe4c99",
   "metadata": {},
   "outputs": [
    {
     "name": "stdout",
     "output_type": "stream",
     "text": [
      "('Suchit', 'Suchit', 'Suchit', 'Suchit')\n"
     ]
    }
   ],
   "source": [
    "myTuple = (('Suchit', ) * 4)                     # Repeat items using * operator.\n",
    "print(myTuple)"
   ]
  },
  {
   "cell_type": "code",
   "execution_count": 45,
   "id": "aa59b404-2c47-4ea4-9ec0-ef72f0ef785f",
   "metadata": {},
   "outputs": [],
   "source": [
    "# Since tuple is immutable hence the entire tuple needs to be deleted using del keyword\n",
    "\n",
    "myTuple = (3, 'Suchit', 45, 11, 'tree', 34)\n",
    "\n",
    "del myTuple                                      # Delete the entire tuple"
   ]
  },
  {
   "cell_type": "code",
   "execution_count": 46,
   "id": "84f0c625-5b03-4fd9-b79f-2ead2e91a05f",
   "metadata": {},
   "outputs": [
    {
     "data": {
      "text/plain": [
       "2"
      ]
     },
     "execution_count": 46,
     "metadata": {},
     "output_type": "execute_result"
    }
   ],
   "source": [
    "myTuple = ('Suchit', 244, 'Suchit', 412, 'tree', 28, 11, 2)\n",
    "\n",
    "myTuple.count('Suchit')     # Frequency of particular element in a tuple"
   ]
  },
  {
   "cell_type": "code",
   "execution_count": 47,
   "id": "a63785e6-8525-4a87-914f-801a1f5b2909",
   "metadata": {},
   "outputs": [
    {
     "name": "stdout",
     "output_type": "stream",
     "text": [
      "6\n",
      "11\n"
     ]
    }
   ],
   "source": [
    "myTuple = ('Suchit', 244, 'Suchit', 412, 'tree', 28, 11, 2)\n",
    "\n",
    "print(myTuple.index(11))                  # Returns index of the first element equal to 11\n",
    "\n",
    "print(myTuple[6])                         # Print element at index 6"
   ]
  },
  {
   "cell_type": "code",
   "execution_count": 48,
   "id": "0f8331ad-5eba-4e9f-a7d8-2aa5a7ee711a",
   "metadata": {},
   "outputs": [
    {
     "name": "stdout",
     "output_type": "stream",
     "text": [
      "True\n"
     ]
    }
   ],
   "source": [
    "myTuple = ('Suchit', 244, 'Suchit', 412, 'tree', 28, 11, 2)\n",
    "\n",
    "print(244 in myTuple)                                              # Check if an item exists in a tuple"
   ]
  },
  {
   "cell_type": "code",
   "execution_count": 49,
   "id": "421cd9f0-91a6-4630-9b53-20b23207e7de",
   "metadata": {},
   "outputs": [
    {
     "name": "stdout",
     "output_type": "stream",
     "text": [
      "False\n"
     ]
    }
   ],
   "source": [
    "print('Sam' in myTuple)"
   ]
  },
  {
   "cell_type": "code",
   "execution_count": 50,
   "id": "477f8bae-e4bc-420b-a9f0-1e2bf1df2d03",
   "metadata": {},
   "outputs": [
    {
     "name": "stdout",
     "output_type": "stream",
     "text": [
      "8\n"
     ]
    }
   ],
   "source": [
    "myTuple = ('Suchit', 244, 'Suchit', 412, 'tree', 28, 11, 2)\n",
    "print(len(myTuple))"
   ]
  },
  {
   "cell_type": "code",
   "execution_count": 51,
   "id": "37fda562-8636-46f3-9a48-dc6f9886c679",
   "metadata": {},
   "outputs": [
    {
     "name": "stdout",
     "output_type": "stream",
     "text": [
      "(12, 3, 44, 245, 0.2, 33)\n",
      "[0.2, 3, 12, 33, 44, 245]\n"
     ]
    }
   ],
   "source": [
    "#myTuple = ('Suchit', 244, 'Suchit', 412, 'tree', 28, 11, 2)\n",
    "myTuple = (12,3,44,245,0.2,33)\n",
    "print(myTuple)\n",
    "\n",
    "sortedTuple = sorted(myTuple)                       # Returns a new sorted list. Does not change original tuple\n",
    "print(sortedTuple)"
   ]
  },
  {
   "cell_type": "code",
   "execution_count": 52,
   "id": "ef6bb862-f850-4234-8064-8ae5adffdc01",
   "metadata": {},
   "outputs": [
    {
     "name": "stdout",
     "output_type": "stream",
     "text": [
      "245\n",
      "0.2\n"
     ]
    }
   ],
   "source": [
    "myNumberTuple = (12,3,44,245,0.2,33)\n",
    "\n",
    "print(max(myNumberTuple))                           # Largest element in a tuple\n",
    "\n",
    "print(min(myNumberTuple))                           # Smallest element in a tuple"
   ]
  },
  {
   "cell_type": "code",
   "execution_count": 53,
   "id": "e1ff8eec-ee3d-412a-b047-c3a32f888b53",
   "metadata": {},
   "outputs": [
    {
     "name": "stdout",
     "output_type": "stream",
     "text": [
      "337.2\n"
     ]
    }
   ],
   "source": [
    "print(sum(myNumberTuple))                           # Sum of elments in the tuple"
   ]
  },
  {
   "cell_type": "code",
   "execution_count": 54,
   "id": "21adfd1b-1aac-4bbd-a5e2-11ec6fcac4b1",
   "metadata": {},
   "outputs": [
    {
     "name": "stdout",
     "output_type": "stream",
     "text": [
      "{1, 2, 3}\n",
      "<class 'set'>\n"
     ]
    }
   ],
   "source": [
    "mySet = {1,2,3}                          # Curly braces and comma seperated values \n",
    "print(mySet)\n",
    " \n",
    "print(type(mySet))                         # type of mySet"
   ]
  },
  {
   "cell_type": "code",
   "execution_count": 55,
   "id": "1bca4b27-096f-48f5-ba09-363489348707",
   "metadata": {},
   "outputs": [
    {
     "name": "stdout",
     "output_type": "stream",
     "text": [
      "{1, 2, 3, 4}\n"
     ]
    }
   ],
   "source": [
    "mySet = {1,2,3,1,4}                    # Duplicates not allowed.\n",
    "print(mySet)"
   ]
  },
  {
   "cell_type": "code",
   "execution_count": 56,
   "id": "d5b08b0a-4c99-4736-acb8-c74613d1b207",
   "metadata": {},
   "outputs": [
    {
     "name": "stdout",
     "output_type": "stream",
     "text": [
      "{1, 2, 3, 4}\n"
     ]
    }
   ],
   "source": [
    "mySet = set([1,2,3,4,1])                  # We can make set from a list using set() method\n",
    "print(mySet)"
   ]
  },
  {
   "cell_type": "code",
   "execution_count": 57,
   "id": "82dbc7ee-ba70-46dd-93db-e550c636982b",
   "metadata": {},
   "outputs": [
    {
     "name": "stdout",
     "output_type": "stream",
     "text": [
      "<class 'set'>\n"
     ]
    }
   ],
   "source": [
    "mySet = set()                              # Initialize a set  with set() method\n",
    "print(type(mySet))"
   ]
  },
  {
   "cell_type": "code",
   "execution_count": 60,
   "id": "7e68f5f1-abc3-4e0b-ae6e-34fe5dfeb29b",
   "metadata": {},
   "outputs": [
    {
     "name": "stdout",
     "output_type": "stream",
     "text": [
      "{56, 5, 'a'}\n",
      "{2, 5, 'a', 12, 56, 'r'}\n"
     ]
    },
    {
     "ename": "TypeError",
     "evalue": "'set' object is not subscriptable",
     "output_type": "error",
     "traceback": [
      "\u001b[1;31m---------------------------------------------------------------------------\u001b[0m",
      "\u001b[1;31mTypeError\u001b[0m                                 Traceback (most recent call last)",
      "\u001b[1;32m<ipython-input-60-034534f40467>\u001b[0m in \u001b[0;36m<module>\u001b[1;34m\u001b[0m\n\u001b[0;32m      7\u001b[0m \u001b[0mprint\u001b[0m\u001b[1;33m(\u001b[0m\u001b[0mmySet\u001b[0m\u001b[1;33m)\u001b[0m\u001b[1;33m\u001b[0m\u001b[1;33m\u001b[0m\u001b[0m\n\u001b[0;32m      8\u001b[0m \u001b[1;33m\u001b[0m\u001b[0m\n\u001b[1;32m----> 9\u001b[1;33m \u001b[0mprint\u001b[0m\u001b[1;33m(\u001b[0m\u001b[0mmySet\u001b[0m\u001b[1;33m[\u001b[0m\u001b[1;36m3\u001b[0m\u001b[1;33m]\u001b[0m\u001b[1;33m)\u001b[0m                        \u001b[1;31m# set object doesn't support duplicates hence indexing doesn't make sense\u001b[0m\u001b[1;33m\u001b[0m\u001b[1;33m\u001b[0m\u001b[0m\n\u001b[0m",
      "\u001b[1;31mTypeError\u001b[0m: 'set' object is not subscriptable"
     ]
    }
   ],
   "source": [
    "mySet = {'a', 56}\n",
    "\n",
    "mySet.add(5)                           # Add single element using add() method\n",
    "print(mySet)\n",
    "\n",
    "mySet.update([2,'r',12])             # Add multiple elements using update() method\n",
    "print(mySet)\n",
    "\n",
    "print(mySet[3])                        # set object doesn't support duplicates hence indexing doesn't make sense"
   ]
  },
  {
   "cell_type": "code",
   "execution_count": 61,
   "id": "1dfbea75-2c9b-4bfc-847b-68e0af9bd59b",
   "metadata": {},
   "outputs": [
    {
     "name": "stdout",
     "output_type": "stream",
     "text": [
      "{1, 2, 4, 5, 'a', 12, 'One', 56, 'r'}\n"
     ]
    }
   ],
   "source": [
    "mySet.update([12,'One'],{4,1,5})     # Adding a list and a set to the original set\n",
    "print(mySet)"
   ]
  },
  {
   "cell_type": "code",
   "execution_count": 77,
   "id": "e6837104-5686-4925-a3ff-91993bff8f0f",
   "metadata": {},
   "outputs": [
    {
     "name": "stdout",
     "output_type": "stream",
     "text": [
      "{11, 12, 13, 14, 15}\n",
      "{11, 12, 14, 15}\n",
      "{11, 12, 15}\n"
     ]
    }
   ],
   "source": [
    "mySet = {11, 12, 13, 14, 15}\n",
    "print(mySet)\n",
    "\n",
    "mySet.remove(13)                   # 13 is removed from set mySet\n",
    "print(mySet)\n",
    "\n",
    "\n",
    "mySet.discard(14)                    # 14 is removed from set mySet\n",
    "print(mySet)"
   ]
  },
  {
   "cell_type": "code",
   "execution_count": 78,
   "id": "0ba77bc7-bf7f-4551-b8d9-c1a6423af1ac",
   "metadata": {},
   "outputs": [
    {
     "ename": "KeyError",
     "evalue": "35",
     "output_type": "error",
     "traceback": [
      "\u001b[1;31m---------------------------------------------------------------------------\u001b[0m",
      "\u001b[1;31mKeyError\u001b[0m                                  Traceback (most recent call last)",
      "\u001b[1;32m<ipython-input-78-40443b2105a0>\u001b[0m in \u001b[0;36m<module>\u001b[1;34m\u001b[0m\n\u001b[1;32m----> 1\u001b[1;33m \u001b[0mmySet\u001b[0m\u001b[1;33m.\u001b[0m\u001b[0mremove\u001b[0m\u001b[1;33m(\u001b[0m\u001b[1;36m35\u001b[0m\u001b[1;33m)\u001b[0m                        \u001b[1;31m# KeyError thrown\u001b[0m\u001b[1;33m\u001b[0m\u001b[1;33m\u001b[0m\u001b[0m\n\u001b[0m\u001b[0;32m      2\u001b[0m \u001b[0mprint\u001b[0m\u001b[1;33m(\u001b[0m\u001b[0mmySet\u001b[0m\u001b[1;33m)\u001b[0m\u001b[1;33m\u001b[0m\u001b[1;33m\u001b[0m\u001b[0m\n",
      "\u001b[1;31mKeyError\u001b[0m: 35"
     ]
    }
   ],
   "source": [
    "mySet.remove(35)                        # KeyError thrown\n",
    "print(mySet)"
   ]
  },
  {
   "cell_type": "code",
   "execution_count": 79,
   "id": "0832a061-2be7-452a-b91d-a52ff755c549",
   "metadata": {},
   "outputs": [
    {
     "name": "stdout",
     "output_type": "stream",
     "text": [
      "{11, 12, 15}\n"
     ]
    }
   ],
   "source": [
    "mySet.discard(35)                       # KeyError NOT thrown\n",
    "print(mySet)"
   ]
  },
  {
   "cell_type": "code",
   "execution_count": 80,
   "id": "04e0437d-6522-41b5-9b21-5e06d6aed964",
   "metadata": {},
   "outputs": [
    {
     "name": "stdout",
     "output_type": "stream",
     "text": [
      "{11, 12, 'efg', 'abc'}\n"
     ]
    }
   ],
   "source": [
    "mySet = {'abc', 12, 'efg', 1, 11}\n",
    "\n",
    "mySet.pop()                             # Removes a random element\n",
    "\n",
    "print(mySet)"
   ]
  },
  {
   "cell_type": "code",
   "execution_count": 81,
   "id": "8275192e-8471-4bc8-9d90-73d9cb59dac5",
   "metadata": {},
   "outputs": [
    {
     "name": "stdout",
     "output_type": "stream",
     "text": [
      "set()\n"
     ]
    }
   ],
   "source": [
    "mySet = {'abc', 12, 'efg', 1, 11}\n",
    "\n",
    "mySet.clear()                           # Empty all items in\n",
    "\n",
    "print(mySet)"
   ]
  },
  {
   "cell_type": "code",
   "execution_count": 82,
   "id": "6db6d319-335a-4b40-828e-4ed0e6070075",
   "metadata": {},
   "outputs": [
    {
     "name": "stdout",
     "output_type": "stream",
     "text": [
      "{1, 2, 3, 4, 5, 6, 7}\n",
      "{1, 2, 3, 4, 5, 6, 7}\n"
     ]
    }
   ],
   "source": [
    "mySet1 = {1, 2, 3, 4, 5}\n",
    "mySet2 = {3, 4, 5, 6, 7}\n",
    "\n",
    "print(mySet1 | mySet2)              # union of 2 sets using | operator\n",
    "\n",
    "print(mySet1.union(mySet2))         # Alternately use union() method"
   ]
  },
  {
   "cell_type": "code",
   "execution_count": 83,
   "id": "1cf0239b-d7eb-4a6b-a606-93012c87d966",
   "metadata": {},
   "outputs": [
    {
     "name": "stdout",
     "output_type": "stream",
     "text": [
      "{3, 4, 5}\n",
      "{3, 4, 5}\n"
     ]
    }
   ],
   "source": [
    "print(mySet1 & mySet2)              # Intersection of 2 sets using & operator\n",
    "\n",
    "print(mySet1.intersection(mySet2))  # Alternately use intersection() method "
   ]
  },
  {
   "cell_type": "code",
   "execution_count": 84,
   "id": "c7617372-d6dd-478c-9727-fdb8a55abb49",
   "metadata": {},
   "outputs": [
    {
     "name": "stdout",
     "output_type": "stream",
     "text": [
      "{1, 2}\n",
      "{1, 2}\n"
     ]
    }
   ],
   "source": [
    "print(mySet1 - mySet2)              # set Difference: set of elements that are only in mySet1 but not in mySet2\n",
    "print(mySet1.difference(mySet2))    # use differnce() function method "
   ]
  },
  {
   "cell_type": "code",
   "execution_count": 85,
   "id": "93d98552-54d7-46bd-987e-a2114193db2a",
   "metadata": {},
   "outputs": [
    {
     "name": "stdout",
     "output_type": "stream",
     "text": [
      "{6, 7}\n",
      "{6, 7}\n"
     ]
    }
   ],
   "source": [
    "print(mySet2 - mySet1)\n",
    "print(mySet2.difference(mySet1))"
   ]
  },
  {
   "cell_type": "code",
   "execution_count": 86,
   "id": "ed724b04-d64b-477c-88cc-fd15bd957e20",
   "metadata": {},
   "outputs": [
    {
     "name": "stdout",
     "output_type": "stream",
     "text": [
      "{1, 2, 6, 7}\n",
      "{1, 2, 6, 7}\n"
     ]
    }
   ],
   "source": [
    "# symmetric difference: set of elements in both mySet1 and mySet2\n",
    "# except those that are common in both.\"\"\"\n",
    "\n",
    "print(mySet1^mySet2)                       # For symmetric difference use ^ operator\n",
    "\n",
    "print(mySet1.symmetric_difference(mySet2)) # Alternately use symmetric_difference function"
   ]
  },
  {
   "cell_type": "code",
   "execution_count": 87,
   "id": "7ad6224c-89a4-478c-ba0d-639ca7316733",
   "metadata": {},
   "outputs": [
    {
     "name": "stdout",
     "output_type": "stream",
     "text": [
      "Is set 'a' a subset of set 'b' ?  False\n",
      "Is set 'b' a subset of set 'a' ?  True\n"
     ]
    }
   ],
   "source": [
    "a = {1,2,3,4,5,6}\n",
    "b = {2,4}\n",
    "\n",
    "print(\"Is set 'a' a subset of set 'b' ? \", a.issubset(b))          # Check a is subset of b\n",
    "\n",
    "print(\"Is set 'b' a subset of set 'a' ? \", b.issubset(a))          # Check b is subset of a"
   ]
  },
  {
   "cell_type": "code",
   "execution_count": 88,
   "id": "c4f71db1-c1a0-474c-85ec-65a5c46dcfc0",
   "metadata": {},
   "outputs": [
    {
     "ename": "AttributeError",
     "evalue": "'frozenset' object has no attribute 'add'",
     "output_type": "error",
     "traceback": [
      "\u001b[1;31m---------------------------------------------------------------------------\u001b[0m",
      "\u001b[1;31mAttributeError\u001b[0m                            Traceback (most recent call last)",
      "\u001b[1;32m<ipython-input-88-204a3897af56>\u001b[0m in \u001b[0;36m<module>\u001b[1;34m\u001b[0m\n\u001b[0;32m      2\u001b[0m \u001b[0mmySet2\u001b[0m \u001b[1;33m=\u001b[0m \u001b[0mfrozenset\u001b[0m\u001b[1;33m(\u001b[0m\u001b[1;33m[\u001b[0m\u001b[1;36m4\u001b[0m\u001b[1;33m,\u001b[0m \u001b[1;36m5\u001b[0m\u001b[1;33m,\u001b[0m \u001b[1;36m6\u001b[0m\u001b[1;33m,\u001b[0m \u001b[1;36m7\u001b[0m\u001b[1;33m,\u001b[0m \u001b[1;36m8\u001b[0m\u001b[1;33m]\u001b[0m\u001b[1;33m)\u001b[0m\u001b[1;33m\u001b[0m\u001b[1;33m\u001b[0m\u001b[0m\n\u001b[0;32m      3\u001b[0m \u001b[1;33m\u001b[0m\u001b[0m\n\u001b[1;32m----> 4\u001b[1;33m \u001b[0mmySet1\u001b[0m\u001b[1;33m.\u001b[0m\u001b[0madd\u001b[0m\u001b[1;33m(\u001b[0m\u001b[1;36m9\u001b[0m\u001b[1;33m)\u001b[0m                              \u001b[1;31m# Cannot add value to immutable set\u001b[0m\u001b[1;33m\u001b[0m\u001b[1;33m\u001b[0m\u001b[0m\n\u001b[0m",
      "\u001b[1;31mAttributeError\u001b[0m: 'frozenset' object has no attribute 'add'"
     ]
    }
   ],
   "source": [
    "mySet1 = frozenset([1, 2, 3, 4, 5])\n",
    "mySet2 = frozenset([4, 5, 6, 7, 8])\n",
    "\n",
    "mySet1.add(9)                              # Cannot add value to immutable set"
   ]
  },
  {
   "cell_type": "code",
   "execution_count": 89,
   "id": "21b5ef0e-5cde-44ae-a294-a5aaca8a0b00",
   "metadata": {},
   "outputs": [
    {
     "ename": "TypeError",
     "evalue": "'frozenset' object is not subscriptable",
     "output_type": "error",
     "traceback": [
      "\u001b[1;31m---------------------------------------------------------------------------\u001b[0m",
      "\u001b[1;31mTypeError\u001b[0m                                 Traceback (most recent call last)",
      "\u001b[1;32m<ipython-input-89-537f5e69c8d9>\u001b[0m in \u001b[0;36m<module>\u001b[1;34m\u001b[0m\n\u001b[1;32m----> 1\u001b[1;33m \u001b[0mprint\u001b[0m\u001b[1;33m(\u001b[0m\u001b[0mmySet1\u001b[0m\u001b[1;33m[\u001b[0m\u001b[1;36m4\u001b[0m\u001b[1;33m]\u001b[0m\u001b[1;33m)\u001b[0m                           \u001b[1;31m# frozen set doesn't support indexing\u001b[0m\u001b[1;33m\u001b[0m\u001b[1;33m\u001b[0m\u001b[0m\n\u001b[0m",
      "\u001b[1;31mTypeError\u001b[0m: 'frozenset' object is not subscriptable"
     ]
    }
   ],
   "source": [
    "print(mySet1[4])                           # frozen set doesn't support indexing"
   ]
  },
  {
   "cell_type": "code",
   "execution_count": 90,
   "id": "789b3592-48a0-485d-b560-f65a88f5b7a6",
   "metadata": {},
   "outputs": [
    {
     "name": "stdout",
     "output_type": "stream",
     "text": [
      "frozenset({1, 2, 3, 4, 5, 6, 7, 8})\n"
     ]
    }
   ],
   "source": [
    "print(mySet1 | mySet2)                    # union of 2 sets"
   ]
  },
  {
   "cell_type": "code",
   "execution_count": 91,
   "id": "f49b2fe9-bf2e-4967-af90-0f0e0cbdb0e6",
   "metadata": {},
   "outputs": [
    {
     "name": "stdout",
     "output_type": "stream",
     "text": [
      "frozenset({4, 5})\n",
      "frozenset({4, 5})\n"
     ]
    }
   ],
   "source": [
    "print(mySet1 & mySet2)                    # intersection of two sets\n",
    "\n",
    "print(mySet1.intersection(mySet2))        # Alernative is to use intersection() method "
   ]
  },
  {
   "cell_type": "code",
   "execution_count": 92,
   "id": "a7ef15ef-49ed-4f9e-bcd0-3c8aa89d90a2",
   "metadata": {},
   "outputs": [
    {
     "name": "stdout",
     "output_type": "stream",
     "text": [
      "frozenset({1, 2, 3, 6, 7, 8})\n",
      "frozenset({1, 2, 3, 6, 7, 8})\n"
     ]
    }
   ],
   "source": [
    "print(mySet1 ^ mySet2)                        # symmetric difference\n",
    "\n",
    "print(mySet1.symmetric_difference(mySet2))    # Alternative is symmetric_difference() method"
   ]
  },
  {
   "cell_type": "code",
   "execution_count": 93,
   "id": "a4579a42-a24b-4e50-b961-f0f018540f83",
   "metadata": {},
   "outputs": [
    {
     "name": "stdout",
     "output_type": "stream",
     "text": [
      "{100: 'excellent', 50: 'fair'}\n",
      "{'name': 'Suchit', 10: ['sun', 'star']}\n",
      "{4: 'abcd', 2: 'ab'}\n"
     ]
    }
   ],
   "source": [
    "myDict = {}                                                  # Create an empty dictionary\n",
    "\n",
    "myIntegerKeyDict = {100:'excellent',50:'fair'}\n",
    "print(myIntegerKeyDict)\n",
    " \n",
    "myMixedKeysDict = {'name':'Suchit', 10:['sun','star']}    # Create a dictionary with mixed keys\n",
    "print(myMixedKeysDict)\n",
    "\n",
    "\n",
    "myDict = dict()                                              # Create an empty dictionary using dict() method\n",
    "\n",
    "myDict = dict([(4,'abcd'),(2,'ab')])                      # Create a dict with list of tuples\n",
    "print(myDict)"
   ]
  },
  {
   "cell_type": "code",
   "execution_count": 94,
   "id": "3c157981-2f70-4333-9303-eab440cd3aff",
   "metadata": {},
   "outputs": [
    {
     "name": "stdout",
     "output_type": "stream",
     "text": [
      "Suchit\n"
     ]
    }
   ],
   "source": [
    "myDict = {'name': 'Suchit', 'marks': 92, 'hobby': 'guitar'}\n",
    "\n",
    "print(myDict['name'])                               # Pass the key to get the value"
   ]
  },
  {
   "cell_type": "code",
   "execution_count": 95,
   "id": "e4690715-098e-4f14-9858-7d0b17b7fade",
   "metadata": {},
   "outputs": [
    {
     "ename": "KeyError",
     "evalue": "'score'",
     "output_type": "error",
     "traceback": [
      "\u001b[1;31m---------------------------------------------------------------------------\u001b[0m",
      "\u001b[1;31mKeyError\u001b[0m                                  Traceback (most recent call last)",
      "\u001b[1;32m<ipython-input-95-da6914393d2a>\u001b[0m in \u001b[0;36m<module>\u001b[1;34m\u001b[0m\n\u001b[1;32m----> 1\u001b[1;33m \u001b[0mprint\u001b[0m\u001b[1;33m(\u001b[0m\u001b[0mmyDict\u001b[0m\u001b[1;33m[\u001b[0m\u001b[1;34m'score'\u001b[0m\u001b[1;33m]\u001b[0m\u001b[1;33m)\u001b[0m                             \u001b[1;31m# Gives KeyError if key not found\u001b[0m\u001b[1;33m\u001b[0m\u001b[1;33m\u001b[0m\u001b[0m\n\u001b[0m",
      "\u001b[1;31mKeyError\u001b[0m: 'score'"
     ]
    }
   ],
   "source": [
    "print(myDict['score'])                             # Gives KeyError if key not found"
   ]
  },
  {
   "cell_type": "code",
   "execution_count": 96,
   "id": "19394356-2126-47e0-82ab-ed62fe815038",
   "metadata": {},
   "outputs": [
    {
     "name": "stdout",
     "output_type": "stream",
     "text": [
      "guitar\n"
     ]
    }
   ],
   "source": [
    "print(myDict.get('hobby'))                          # Alternately use get(key) to access the value"
   ]
  },
  {
   "cell_type": "code",
   "execution_count": 97,
   "id": "9ba0220d-d406-47cf-865e-a098c3f1c9ea",
   "metadata": {},
   "outputs": [
    {
     "name": "stdout",
     "output_type": "stream",
     "text": [
      "None\n"
     ]
    }
   ],
   "source": [
    "print(myDict.get('score'))                         # Gives None using get method if key not present"
   ]
  },
  {
   "cell_type": "code",
   "execution_count": 98,
   "id": "877b3cbc-e8cf-4dcf-92dc-b5c375cef795",
   "metadata": {},
   "outputs": [
    {
     "name": "stdout",
     "output_type": "stream",
     "text": [
      "{'name': 'Rakesh', 'marks': 92, 'hobby': 'guitar'}\n"
     ]
    }
   ],
   "source": [
    "myDict = {'name': 'Suchit', 'marks': 92, 'hobby': 'guitar'}\n",
    "\n",
    "myDict['name'] = 'Rakesh'                                      # Update the value in the key 'name' \n",
    " \n",
    "print(myDict)"
   ]
  },
  {
   "cell_type": "code",
   "execution_count": 99,
   "id": "8194cf5e-01d9-4aca-8a79-e7c9f7690432",
   "metadata": {},
   "outputs": [
    {
     "name": "stdout",
     "output_type": "stream",
     "text": [
      "{'name': 'Rakesh', 'marks': 92, 'hobby': 'guitar', 'division': 'A'}\n"
     ]
    }
   ],
   "source": [
    "myDict['division'] = 'A'                                       # Add new key-value pair\n",
    "\n",
    "print(myDict)"
   ]
  },
  {
   "cell_type": "code",
   "execution_count": 100,
   "id": "ef1d6436-729b-46b2-87c9-1bb99ef4e0df",
   "metadata": {},
   "outputs": [
    {
     "name": "stdout",
     "output_type": "stream",
     "text": [
      "92\n",
      "{'name': 'Suchit', 'hobby': 'guitar'}\n"
     ]
    }
   ],
   "source": [
    "myDict = {'name': 'Suchit', 'marks': 92, 'hobby': 'guitar'}\n",
    "\n",
    "print(myDict.pop('marks'))                                     # Remove a particular item - pass the key to pop() method\n",
    "\n",
    "print(myDict)"
   ]
  },
  {
   "cell_type": "code",
   "execution_count": 101,
   "id": "3803cb0e-30d8-488b-bfe7-b658dbf65b87",
   "metadata": {},
   "outputs": [
    {
     "name": "stdout",
     "output_type": "stream",
     "text": [
      "{'name': 'Suchit', 'hobby': 'guitar'}\n"
     ]
    }
   ],
   "source": [
    "keyValDict = {'name': 'Suchit', 'marks': 92, 'hobby': 'guitar'}\n",
    "\n",
    "del keyValDict['marks']                               # Delete particular key\n",
    "\n",
    "print(keyValDict)"
   ]
  },
  {
   "cell_type": "code",
   "execution_count": 102,
   "id": "fbd8684b-5e87-4535-a8f2-bc02edd9f26a",
   "metadata": {},
   "outputs": [
    {
     "name": "stdout",
     "output_type": "stream",
     "text": [
      "{}\n"
     ]
    }
   ],
   "source": [
    "keyValDict.clear()                              # Remove all items\n",
    "\n",
    "print(keyValDict)"
   ]
  },
  {
   "cell_type": "code",
   "execution_count": 103,
   "id": "760276e2-0d22-4f9c-a6b3-4591927d5586",
   "metadata": {},
   "outputs": [
    {
     "ename": "NameError",
     "evalue": "name 'keyValDict' is not defined",
     "output_type": "error",
     "traceback": [
      "\u001b[1;31m---------------------------------------------------------------------------\u001b[0m",
      "\u001b[1;31mNameError\u001b[0m                                 Traceback (most recent call last)",
      "\u001b[1;32m<ipython-input-103-c897b8f56e6a>\u001b[0m in \u001b[0;36m<module>\u001b[1;34m\u001b[0m\n\u001b[0;32m      3\u001b[0m \u001b[1;32mdel\u001b[0m \u001b[0mkeyValDict\u001b[0m                                  \u001b[1;31m# Delete dictionary itself\u001b[0m\u001b[1;33m\u001b[0m\u001b[1;33m\u001b[0m\u001b[0m\n\u001b[0;32m      4\u001b[0m \u001b[1;33m\u001b[0m\u001b[0m\n\u001b[1;32m----> 5\u001b[1;33m \u001b[0mprint\u001b[0m\u001b[1;33m(\u001b[0m\u001b[0mkeyValDict\u001b[0m\u001b[1;33m)\u001b[0m                               \u001b[1;31m# NameError because dict is deleted\u001b[0m\u001b[1;33m\u001b[0m\u001b[1;33m\u001b[0m\u001b[0m\n\u001b[0m",
      "\u001b[1;31mNameError\u001b[0m: name 'keyValDict' is not defined"
     ]
    }
   ],
   "source": [
    "keyValDict = {'name': 'Suchit', 'marks': 92, 'hobby': 'guitar'}\n",
    "\n",
    "del keyValDict                                  # Delete dictionary itself\n",
    "\n",
    "print(keyValDict)                               # NameError because dict is deleted"
   ]
  },
  {
   "cell_type": "code",
   "execution_count": 104,
   "id": "3c342d07-e8bd-4098-bee7-95424ce89d56",
   "metadata": {},
   "outputs": [
    {
     "name": "stdout",
     "output_type": "stream",
     "text": [
      "{'name': 'Suchit', 'marks': 92, 'hobby': 'guitar'}\n"
     ]
    }
   ],
   "source": [
    "keyValDict = {'name': 'Suchit', 'marks': 92, 'hobby': 'guitar'}\n",
    "\n",
    "myDict = keyValDict.copy()                                    # copy()\n",
    "print(myDict)"
   ]
  },
  {
   "cell_type": "code",
   "execution_count": 105,
   "id": "c6518f26-eccf-44a3-9bf4-cb978e12e2f3",
   "metadata": {},
   "outputs": [
    {
     "name": "stdout",
     "output_type": "stream",
     "text": [
      "{'apple': 0, 'banana': 0, 'grapes': 0}\n"
     ]
    }
   ],
   "source": [
    "# fromkeys[seq[, v]] -> Return a new dictionary with keys from seq and value equal to v (defaults to None).\n",
    "fruits = {}.fromkeys(['apple','banana','grapes'],0)\n",
    "print(fruits)"
   ]
  },
  {
   "cell_type": "code",
   "execution_count": 106,
   "id": "a5ca7d4b-6f33-44b9-b470-9343b2d78228",
   "metadata": {},
   "outputs": [
    {
     "name": "stdout",
     "output_type": "stream",
     "text": [
      "dict_items([(2, 4), (3, 9), (4, 16), (5, 25)])\n"
     ]
    }
   ],
   "source": [
    "varDict = {2:4, 3:9, 4:16, 5:25}\n",
    "print(varDict.items()) #return a new view of the dictionary items (key, value)"
   ]
  },
  {
   "cell_type": "code",
   "execution_count": 107,
   "id": "26bf0610-b321-4095-9005-8d98eb2351a4",
   "metadata": {},
   "outputs": [
    {
     "name": "stdout",
     "output_type": "stream",
     "text": [
      "dict_keys(['apple', 'banana', 'grapes'])\n",
      "dict_values([2, 12, 10])\n"
     ]
    }
   ],
   "source": [
    "fruits = {'apple': 2, 'banana': 12, 'grapes': 10}\n",
    "\n",
    "print(fruits.keys())                                      # returns the dictionary keys\n",
    "\n",
    "print(fruits.values())                                    # returns the dictionary values"
   ]
  },
  {
   "cell_type": "code",
   "execution_count": 108,
   "id": "34ff2cf5-113c-491d-8871-151db572d03e",
   "metadata": {},
   "outputs": [
    {
     "name": "stdout",
     "output_type": "stream",
     "text": [
      "['__class__', '__contains__', '__delattr__', '__delitem__', '__dir__', '__doc__', '__eq__', '__format__', '__ge__', '__getattribute__', '__getitem__', '__gt__', '__hash__', '__init__', '__init_subclass__', '__iter__', '__le__', '__len__', '__lt__', '__ne__', '__new__', '__reduce__', '__reduce_ex__', '__repr__', '__reversed__', '__setattr__', '__setitem__', '__sizeof__', '__str__', '__subclasshook__', 'clear', 'copy', 'fromkeys', 'get', 'items', 'keys', 'pop', 'popitem', 'setdefault', 'update', 'values']\n"
     ]
    }
   ],
   "source": [
    "dict = {}\n",
    "print(dir(dict))                                          # Get list of all available methods and attributes of dictionary"
   ]
  },
  {
   "cell_type": "code",
   "execution_count": 109,
   "id": "bf56887c-9a4c-4a04-8435-c2f608708b3a",
   "metadata": {},
   "outputs": [
    {
     "name": "stdout",
     "output_type": "stream",
     "text": [
      "('apple', 2)\n",
      "('banana', 12)\n",
      "('grapes', 10)\n"
     ]
    }
   ],
   "source": [
    "fruits = {'apple': 2, 'banana': 12, 'grapes': 10}\n",
    "for fruit in fruits.items():                       # Same as list comprehensions but here its for dictionaries\n",
    "    print(fruit)    "
   ]
  },
  {
   "cell_type": "code",
   "execution_count": 110,
   "id": "22242ae5-969d-4e11-bd2a-70e4b72b43a6",
   "metadata": {},
   "outputs": [
    {
     "name": "stdout",
     "output_type": "stream",
     "text": [
      "{'banana': 12, 'grapes': 10}\n"
     ]
    }
   ],
   "source": [
    "fruits = {'apple': 3, 'banana': 12, 'grapes': 10}\n",
    "fruitsDict = {k:v for k, v in fruits.items() if v%2 == 0}    # Creating a new dictionary with only pairs where the value is even\n",
    "print(fruitsDict)"
   ]
  },
  {
   "cell_type": "code",
   "execution_count": 111,
   "id": "d05c1195-bea2-405b-a24e-085006fbf8f2",
   "metadata": {},
   "outputs": [
    {
     "name": "stdout",
     "output_type": "stream",
     "text": [
      "{'banana_royal': 144, 'grapes_royal': 120}\n",
      "{'apple': 3, 'banana': 12, 'grapes': 10}\n"
     ]
    }
   ],
   "source": [
    "fruits = {'apple': 3, 'banana': 12, 'grapes': 10} \n",
    "\n",
    "fruitsDict = {k + '_royal':v * 12 for k, v in fruits.items() if v%2 == 0} # We can also perform operations on the key value pairs\n",
    "print(fruitsDict)\n",
    "print(fruits)"
   ]
  },
  {
   "cell_type": "code",
   "execution_count": 112,
   "id": "05c1fb80-c651-48ff-aa4e-e0d0006d9021",
   "metadata": {},
   "outputs": [
    {
     "name": "stdout",
     "output_type": "stream",
     "text": [
      "Single\n",
      "Double\n",
      "Triple\n"
     ]
    }
   ],
   "source": [
    "myString = 'Single'\n",
    "print(myString)\n",
    "\n",
    "myString = \"Double\"\n",
    "print(myString)\n",
    "\n",
    "myString = '''Triple'''\n",
    "print(myString)"
   ]
  },
  {
   "cell_type": "code",
   "execution_count": 113,
   "id": "0fad0cd1-1459-46dc-afde-7ed2e9870f5f",
   "metadata": {},
   "outputs": [
    {
     "name": "stdout",
     "output_type": "stream",
     "text": [
      "D\n",
      "oub\n",
      "l\n"
     ]
    }
   ],
   "source": [
    "myString = \"Double\"\n",
    "\n",
    "print(myString[0])             # Print first Character\n",
    "\n",
    "print(myString[1:4])           # Slicing 2nd to 4th character\n",
    "\n",
    "print(myString[-2])            # Print last character using negative indexing"
   ]
  },
  {
   "cell_type": "code",
   "execution_count": 114,
   "id": "2cb47e75-6933-4985-b94e-9aa989cecb53",
   "metadata": {},
   "outputs": [
    {
     "ename": "IndexError",
     "evalue": "string index out of range",
     "output_type": "error",
     "traceback": [
      "\u001b[1;31m---------------------------------------------------------------------------\u001b[0m",
      "\u001b[1;31mIndexError\u001b[0m                                Traceback (most recent call last)",
      "\u001b[1;32m<ipython-input-114-ee1130242c2c>\u001b[0m in \u001b[0;36m<module>\u001b[1;34m\u001b[0m\n\u001b[1;32m----> 1\u001b[1;33m \u001b[0mprint\u001b[0m\u001b[1;33m(\u001b[0m\u001b[0mmyString\u001b[0m\u001b[1;33m[\u001b[0m\u001b[1;36m15\u001b[0m\u001b[1;33m]\u001b[0m\u001b[1;33m)\u001b[0m                    \u001b[1;31m# Index should be in available range\u001b[0m\u001b[1;33m\u001b[0m\u001b[1;33m\u001b[0m\u001b[0m\n\u001b[0m",
      "\u001b[1;31mIndexError\u001b[0m: string index out of range"
     ]
    }
   ],
   "source": [
    "print(myString[15])                    # Index should be in available range"
   ]
  },
  {
   "cell_type": "code",
   "execution_count": 115,
   "id": "5a15539c-c9df-4369-9f6e-8d49aedf2d82",
   "metadata": {},
   "outputs": [
    {
     "ename": "TypeError",
     "evalue": "string indices must be integers",
     "output_type": "error",
     "traceback": [
      "\u001b[1;31m---------------------------------------------------------------------------\u001b[0m",
      "\u001b[1;31mTypeError\u001b[0m                                 Traceback (most recent call last)",
      "\u001b[1;32m<ipython-input-115-b47a9b8dd3b2>\u001b[0m in \u001b[0;36m<module>\u001b[1;34m\u001b[0m\n\u001b[1;32m----> 1\u001b[1;33m \u001b[0mprint\u001b[0m\u001b[1;33m(\u001b[0m\u001b[0mmyString\u001b[0m\u001b[1;33m[\u001b[0m\u001b[1;36m1.5\u001b[0m\u001b[1;33m]\u001b[0m\u001b[1;33m)\u001b[0m                   \u001b[1;31m# Index should be integer always\u001b[0m\u001b[1;33m\u001b[0m\u001b[1;33m\u001b[0m\u001b[0m\n\u001b[0m",
      "\u001b[1;31mTypeError\u001b[0m: string indices must be integers"
     ]
    }
   ],
   "source": [
    "print(myString[1.5])                   # Index should be integer always"
   ]
  },
  {
   "cell_type": "code",
   "execution_count": 116,
   "id": "5d09ecfe-e4c3-4460-8a8c-7b9a63217ea7",
   "metadata": {},
   "outputs": [
    {
     "ename": "TypeError",
     "evalue": "'str' object does not support item assignment",
     "output_type": "error",
     "traceback": [
      "\u001b[1;31m---------------------------------------------------------------------------\u001b[0m",
      "\u001b[1;31mTypeError\u001b[0m                                 Traceback (most recent call last)",
      "\u001b[1;32m<ipython-input-116-393b754ee58f>\u001b[0m in \u001b[0;36m<module>\u001b[1;34m\u001b[0m\n\u001b[0;32m      1\u001b[0m \u001b[0mmyString\u001b[0m \u001b[1;33m=\u001b[0m \u001b[1;34m\"Double\"\u001b[0m\u001b[1;33m\u001b[0m\u001b[1;33m\u001b[0m\u001b[0m\n\u001b[0;32m      2\u001b[0m \u001b[1;33m\u001b[0m\u001b[0m\n\u001b[1;32m----> 3\u001b[1;33m \u001b[0mmyString\u001b[0m\u001b[1;33m[\u001b[0m\u001b[1;36m0\u001b[0m\u001b[1;33m]\u001b[0m \u001b[1;33m=\u001b[0m \u001b[1;34m't'\u001b[0m \u001b[1;31m# strings are immutable\u001b[0m\u001b[1;33m\u001b[0m\u001b[1;33m\u001b[0m\u001b[0m\n\u001b[0m",
      "\u001b[1;31mTypeError\u001b[0m: 'str' object does not support item assignment"
     ]
    }
   ],
   "source": [
    "myString = \"Double\"\n",
    "\n",
    "myString[0] = 't' # strings are immutable"
   ]
  },
  {
   "cell_type": "code",
   "execution_count": 117,
   "id": "9b8398f4-0219-49d5-a882-ab8392a623db",
   "metadata": {},
   "outputs": [],
   "source": [
    "del myString # delete complete string"
   ]
  },
  {
   "cell_type": "code",
   "execution_count": 118,
   "id": "9064728e-d3c9-40ff-85ce-b540cd83b932",
   "metadata": {},
   "outputs": [
    {
     "ename": "NameError",
     "evalue": "name 'myString' is not defined",
     "output_type": "error",
     "traceback": [
      "\u001b[1;31m---------------------------------------------------------------------------\u001b[0m",
      "\u001b[1;31mNameError\u001b[0m                                 Traceback (most recent call last)",
      "\u001b[1;32m<ipython-input-118-13235c81a0c6>\u001b[0m in \u001b[0;36m<module>\u001b[1;34m\u001b[0m\n\u001b[1;32m----> 1\u001b[1;33m \u001b[0mprint\u001b[0m\u001b[1;33m(\u001b[0m\u001b[0mmyString\u001b[0m\u001b[1;33m)\u001b[0m\u001b[1;33m\u001b[0m\u001b[1;33m\u001b[0m\u001b[0m\n\u001b[0m",
      "\u001b[1;31mNameError\u001b[0m: name 'myString' is not defined"
     ]
    }
   ],
   "source": [
    "print(myString)"
   ]
  },
  {
   "cell_type": "code",
   "execution_count": 119,
   "id": "5c4e204e-1343-49c6-9518-d9fa5f8d6a80",
   "metadata": {},
   "outputs": [
    {
     "name": "stdout",
     "output_type": "stream",
     "text": [
      "Python Programming\n",
      "Python Python \n"
     ]
    }
   ],
   "source": [
    "myString1 = \"Python \"\n",
    "myString2 = \"Programming\"\n",
    "\n",
    "print(myString1 + myString2)        # Concatenation of 2 strings  \n",
    "\n",
    "print(myString1 * 2)                # Repeat string n times"
   ]
  },
  {
   "cell_type": "code",
   "execution_count": 120,
   "id": "b238921d-ce61-43ff-9b92-4a1c5b6918dc",
   "metadata": {},
   "outputs": [
    {
     "name": "stdout",
     "output_type": "stream",
     "text": [
      "Character count of P is  2\n"
     ]
    }
   ],
   "source": [
    "charCount = 0\n",
    "for character in \"Python Programming\":             # Iterating Through String\n",
    "    if character == 'P':\n",
    "        charCount += 1\n",
    "print('Character count of P is ', charCount)      "
   ]
  },
  {
   "cell_type": "code",
   "execution_count": 121,
   "id": "005a557b-0609-4e7d-bb3c-ef5d967869d7",
   "metadata": {},
   "outputs": [
    {
     "name": "stdout",
     "output_type": "stream",
     "text": [
      "True\n"
     ]
    }
   ],
   "source": [
    "print('m' in 'Python Programming')                  # in operator to test membership"
   ]
  },
  {
   "cell_type": "code",
   "execution_count": 122,
   "id": "ca7fb3c0-3449-406b-ab40-7671aff8465e",
   "metadata": {},
   "outputs": [
    {
     "name": "stdout",
     "output_type": "stream",
     "text": [
      "True\n"
     ]
    }
   ],
   "source": [
    "print('ro' in 'Python Programming') "
   ]
  },
  {
   "cell_type": "code",
   "execution_count": 123,
   "id": "07a5c8c7-6eac-4298-b41f-742a20151469",
   "metadata": {},
   "outputs": [
    {
     "data": {
      "text/plain": [
       "'python'"
      ]
     },
     "execution_count": 123,
     "metadata": {},
     "output_type": "execute_result"
    }
   ],
   "source": [
    "\"Python\".lower()                                                      # lower"
   ]
  },
  {
   "cell_type": "code",
   "execution_count": 124,
   "id": "14f80be5-ded4-4498-8763-56bc06398c92",
   "metadata": {},
   "outputs": [
    {
     "data": {
      "text/plain": [
       "'PYTHON'"
      ]
     },
     "execution_count": 124,
     "metadata": {},
     "output_type": "execute_result"
    }
   ],
   "source": [
    "\"Python\".upper()                                                      # upper"
   ]
  },
  {
   "cell_type": "code",
   "execution_count": 125,
   "id": "3dfc1ef4-d3d7-4524-b11a-85a6fa6927a5",
   "metadata": {},
   "outputs": [
    {
     "data": {
      "text/plain": [
       "['Split', 'this', 'line', 'into', 'a', 'list']"
      ]
     },
     "execution_count": 125,
     "metadata": {},
     "output_type": "execute_result"
    }
   ],
   "source": [
    "\"Split this line into a list\".split()                                 # split"
   ]
  },
  {
   "cell_type": "code",
   "execution_count": 126,
   "id": "c401291d-5cc3-40c1-825a-4f267b5376cd",
   "metadata": {},
   "outputs": [
    {
     "data": {
      "text/plain": [
       "'Split this line into a list'"
      ]
     },
     "execution_count": 126,
     "metadata": {},
     "output_type": "execute_result"
    }
   ],
   "source": [
    "' '.join(['Split', 'this', 'line', 'into', 'a', 'list'])              # join"
   ]
  },
  {
   "cell_type": "code",
   "execution_count": 127,
   "id": "13306711-510b-4087-94a2-0d31d76dac9a",
   "metadata": {},
   "outputs": [
    {
     "name": "stdout",
     "output_type": "stream",
     "text": [
      "Python Programming\n",
      "Python Program\n"
     ]
    }
   ],
   "source": [
    "myString1 = \"Python Programming\"\n",
    "\n",
    "myString2 = myString1.replace('Programming','Program')                # Replace a word\n",
    "\n",
    "print(myString1)\n",
    "print(myString2)"
   ]
  },
  {
   "cell_type": "code",
   "execution_count": 132,
   "id": "92a06393-6554-4aa0-9746-74ed1969c1fa",
   "metadata": {},
   "outputs": [
    {
     "name": "stdout",
     "output_type": "stream",
     "text": [
      "kehsihba\n",
      "Given string is NOT a palindrome\n",
      "works sorting reverse is how a This \n"
     ]
    }
   ],
   "source": [
    "#Excercise 1: Reverse a word\n",
    "\n",
    "originalWord = 'abhishek'\n",
    "reversedWord = ''\n",
    "for character in originalWord:\n",
    "    reversedWord = character + reversedWord\n",
    "print(reversedWord)\n",
    "\n",
    "#Excercise 2: Check if word is a palindrome?\n",
    "\n",
    "originalWord = originalWord.lower()\n",
    "reversedWord = reversedWord.lower()\n",
    "\n",
    "if originalWord == reversedWord:\n",
    "    print(\"Given string is a palindrome\")\n",
    "else:\n",
    "    print(\"Given string is NOT a palindrome\")\n",
    "    \n",
    "#Excercise 3: Sort sentences in Reverse alphabetic Order?\n",
    "\n",
    "myString = \"This is a how reverse sorting works\" \n",
    "\n",
    "words = myString.split()                         # Breakdown the string into list of words\n",
    "\n",
    "words.sort(reverse=True)                         # Reverse sort the list\n",
    "\n",
    "\n",
    "revString = ''                              # Concate the words into a sentence\n",
    "for word in words:\n",
    "    revString += word + ' '\n",
    "print(revString)"
   ]
  },
  {
   "cell_type": "code",
   "execution_count": null,
   "id": "c332774d-f24a-41b1-9865-e1fd9a3aa398",
   "metadata": {},
   "outputs": [],
   "source": []
  }
 ],
 "metadata": {
  "kernelspec": {
   "display_name": "Python 3",
   "language": "python",
   "name": "python3"
  },
  "language_info": {
   "codemirror_mode": {
    "name": "ipython",
    "version": 3
   },
   "file_extension": ".py",
   "mimetype": "text/x-python",
   "name": "python",
   "nbconvert_exporter": "python",
   "pygments_lexer": "ipython3",
   "version": "3.8.8"
  }
 },
 "nbformat": 4,
 "nbformat_minor": 5
}
