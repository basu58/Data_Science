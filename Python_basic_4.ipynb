{
 "cells": [
  {
   "cell_type": "code",
   "execution_count": 1,
   "id": "6820c745-76f9-4770-9a09-654573161b69",
   "metadata": {},
   "outputs": [
    {
     "name": "stdout",
     "output_type": "stream",
     "text": [
      "7\n",
      "3\n",
      "10\n",
      "2.5\n",
      "1\n",
      "2\n",
      "25\n"
     ]
    }
   ],
   "source": [
    "variable1, variable2 = 5, 2\n",
    "\n",
    "print(variable1 + variable2)  # Addition(+)\n",
    "\n",
    "print(variable1 - variable2)  # Subtraction(-)\n",
    "\n",
    "print(variable1 * variable2)  # Multiplication(*)\n",
    "\n",
    "print(variable1 / variable2)  # Division(/)\n",
    "\n",
    "print(variable1 % variable2)  # Modulo division (%)\n",
    "\n",
    "print(variable1 // variable2) # Floor Division (//)\n",
    "\n",
    "print(variable1 ** variable2) # Exponent (**)"
   ]
  },
  {
   "cell_type": "code",
   "execution_count": 2,
   "id": "59f14410-13ff-4183-8f1c-f4150a62d2c2",
   "metadata": {},
   "outputs": [
    {
     "name": "stdout",
     "output_type": "stream",
     "text": [
      "False\n",
      "True\n",
      "False\n",
      "True\n",
      "True\n",
      "False\n"
     ]
    }
   ],
   "source": [
    "variable1, variable2 = 5, 2         \n",
    "\n",
    "print(variable1 < variable2)   # Check if variable1 is less than variable2\n",
    "\n",
    "print(variable1 > variable2)   # Check if variable1 is greater than variable2\n",
    "\n",
    "print(variable1 == variable2)  # Check if variable1 is equal to variable2\n",
    "\n",
    "print(variable1 != variable2)  # Check if variable1 is not equal to variable2 (!=)\n",
    "\n",
    "print(variable1 >= variable2)  # Check if variable1 greater than or equal to variable2\n",
    "\n",
    "print(variable1 <= variable2)  # Check if variable1 less than or equal to variable2\n"
   ]
  },
  {
   "cell_type": "code",
   "execution_count": 3,
   "id": "c5c1dfa5-f542-406f-9075-b991ddf1de05",
   "metadata": {},
   "outputs": [
    {
     "name": "stdout",
     "output_type": "stream",
     "text": [
      "False\n",
      "True\n",
      "True\n"
     ]
    }
   ],
   "source": [
    "variable1, variable2 = True, False\n",
    "\n",
    "print(variable1 and variable2)  # Print variable1 and variable2 \n",
    "\n",
    "# 0 0 0\n",
    "# 0 1 0\n",
    "# 1 0 0\n",
    "# 1 1 1\n",
    "\n",
    "print(variable1 or variable2)  # Print variable1 or variable2\n",
    "\n",
    "# 0 0 0\n",
    "# 0 1 1\n",
    "# 1 0 1\n",
    "# 1 1 1\n",
    "\n",
    "print(not variable2)           # Print not variable2"
   ]
  },
  {
   "cell_type": "code",
   "execution_count": 4,
   "id": "480b728c-bb76-4907-95c2-9f2e11ffd0cf",
   "metadata": {},
   "outputs": [
    {
     "name": "stdout",
     "output_type": "stream",
     "text": [
      "3\n",
      "7\n",
      "-8\n",
      "4\n",
      "0\n",
      "12\n"
     ]
    }
   ],
   "source": [
    "variable1, variable2 = 3, 7            # Decimal to bitwise values -> 3 - 0000 0011 & 7 - 0000 0111\n",
    "\n",
    "print(variable1 & variable2)           # Bitwise AND ->       0000 0011 & 0000 0111 -> 0000 0011 -> 3\n",
    "\n",
    "\n",
    "print(variable1 | variable2)           # Bitwise OR ->        0000 0011 | 0000 0111 -> 0000 0111 -> 7\n",
    "\n",
    "\n",
    "print(~variable2)                      # Bitwise NOT ->     ~ 0000 0111 -> 1111 1000 -> -8\n",
    "\n",
    "\n",
    "print(variable1 ^ variable2)           # Bitwise XOR ->       0000 0011 ^ 0000 0111 -> 0000 0100 -> 4\n",
    "\n",
    "\n",
    "print(variable1>>2)                    # Bitwise rightshift   0000 0011>>2 -> 0000 0000 -> 0\n",
    "\n",
    "\n",
    "print(variable1<<2)                    # Bitwise Leftshift    0000 0011<<2 -> 0000 1100 -> 12"
   ]
  },
  {
   "cell_type": "code",
   "execution_count": 5,
   "id": "e6127f57-f057-4cc8-9035-4ad4bd7e1c2a",
   "metadata": {},
   "outputs": [
    {
     "name": "stdout",
     "output_type": "stream",
     "text": [
      "44\n",
      "37\n",
      "148\n",
      "37.0\n",
      "17.0\n",
      "4.0\n",
      "256.0\n"
     ]
    }
   ],
   "source": [
    "age = 40\n",
    "\n",
    "age += 4        # Add AND  <- age = age + 4\n",
    "print(age)\n",
    "\n",
    "age -= 7        # Subtract AND (-=)\n",
    "print(age)\n",
    "\n",
    "age *= 4        # Multiply AND (*=)\n",
    "print(age)\n",
    "\n",
    "age /= 4        # Divide AND (/=)\n",
    "print(age)\n",
    "\n",
    "age %= 20       # Modulus AND (%=)\n",
    "print(age)\n",
    "\n",
    "age //= 4       # Floor Division (//=)\n",
    "print(age)\n",
    "\n",
    "age **= 4       # Exponent AND (**=)\n",
    "print(age)"
   ]
  },
  {
   "cell_type": "code",
   "execution_count": 6,
   "id": "64612062-3b0c-4cbc-9df1-f43703f81fdd",
   "metadata": {},
   "outputs": [
    {
     "name": "stdout",
     "output_type": "stream",
     "text": [
      "True\n",
      "False\n"
     ]
    }
   ],
   "source": [
    "variable1 = 20\n",
    "variable2 = 20\n",
    "print(variable1 is variable2)            # 20 is created once & both variable1 and variable2 points to same object\n",
    "\n",
    "#check is not\n",
    "print(variable1 is not variable2)"
   ]
  },
  {
   "cell_type": "code",
   "execution_count": 7,
   "id": "ce30b9e0-06ca-4e97-8bcd-d6b1f171a0a5",
   "metadata": {},
   "outputs": [
    {
     "name": "stdout",
     "output_type": "stream",
     "text": [
      "False\n"
     ]
    }
   ],
   "source": [
    "myList1 = [1,2,3]\n",
    "myList2 = [1,2,3]\n",
    "\n",
    "print(myList1 is myList2)"
   ]
  },
  {
   "cell_type": "code",
   "execution_count": 8,
   "id": "b73cea90-bfb0-4a4b-a962-3c8cd508a52e",
   "metadata": {},
   "outputs": [
    {
     "name": "stdout",
     "output_type": "stream",
     "text": [
      "False\n"
     ]
    }
   ],
   "source": [
    "myString1 = \"Suchit\"\n",
    "myString2 = \"Suchit\"\n",
    "print(myString1 is not myString2)"
   ]
  },
  {
   "cell_type": "code",
   "execution_count": 9,
   "id": "d2464671-84ee-42d0-890a-8e32b35b8ee6",
   "metadata": {},
   "outputs": [
    {
     "name": "stdout",
     "output_type": "stream",
     "text": [
      "True\n",
      "True\n"
     ]
    }
   ],
   "source": [
    "myList3 = ['a', 22, 'b', 100]\n",
    "print(22 in myList3)                  # Check if 22 is present in the given list or not\n",
    "\n",
    "print('b' in myList3)                 # Check if 'b' is present in the given list"
   ]
  },
  {
   "cell_type": "code",
   "execution_count": 10,
   "id": "0609ad9f-37f5-489c-ac7d-e3e1090137b1",
   "metadata": {},
   "outputs": [
    {
     "name": "stdout",
     "output_type": "stream",
     "text": [
      "True\n"
     ]
    }
   ],
   "source": [
    "myDictionary = {125 : 'Apple', 200 : 'Banana'}\n",
    "print(125 in myDictionary)"
   ]
  },
  {
   "cell_type": "code",
   "execution_count": 11,
   "id": "ffeda647-752f-4dc3-b299-ba9f9fe249cb",
   "metadata": {},
   "outputs": [
    {
     "name": "stdout",
     "output_type": "stream",
     "text": [
      "Outside if block\n"
     ]
    }
   ],
   "source": [
    "number = 20\n",
    "\n",
    "if number<15:\n",
    "    print('Number is less than 15')\n",
    "print('Outside if block')"
   ]
  },
  {
   "cell_type": "code",
   "execution_count": 12,
   "id": "9a23f595-fd0e-4355-85d0-e5b45299448a",
   "metadata": {},
   "outputs": [
    {
     "name": "stdout",
     "output_type": "stream",
     "text": [
      "Inside if\n",
      "Outside if\n",
      "True\n"
     ]
    }
   ],
   "source": [
    "# try 0, -1 and None\n",
    "if -1:\n",
    "    print(\"Inside if\")\n",
    "print(\"Outside if\")                #This print statement always print\n",
    "\n",
    "# What is the idea behind the above\n",
    "val = -1\n",
    "print(bool(val))"
   ]
  },
  {
   "cell_type": "code",
   "execution_count": 13,
   "id": "a985eb0c-e9e9-4ea9-8d85-750a56bdb266",
   "metadata": {},
   "outputs": [
    {
     "name": "stdout",
     "output_type": "stream",
     "text": [
      "Adult\n"
     ]
    }
   ],
   "source": [
    "age = 21\n",
    "if age > 18:\n",
    "    print('Adult')\n",
    "else:\n",
    "    print('Child')"
   ]
  },
  {
   "cell_type": "code",
   "execution_count": 14,
   "id": "23da4ef0-f321-4f6a-b67a-f1432ea820d6",
   "metadata": {},
   "outputs": [
    {
     "name": "stdout",
     "output_type": "stream",
     "text": [
      "Adult\n"
     ]
    }
   ],
   "source": [
    "age = 20\n",
    "\n",
    "if age > 19:\n",
    "    print('Adult')\n",
    "elif age > 12:\n",
    "    print('Teen')\n",
    "else:\n",
    "    print('Child')"
   ]
  },
  {
   "cell_type": "code",
   "execution_count": 15,
   "id": "f315cdaf-63e4-4d2f-afcf-3ca26eb68109",
   "metadata": {},
   "outputs": [
    {
     "name": "stdout",
     "output_type": "stream",
     "text": [
      "Teen\n",
      "This will always get executed\n"
     ]
    }
   ],
   "source": [
    "age = 14\n",
    "\n",
    "if age >=13:\n",
    "    if age <=19:\n",
    "        print('Teen')\n",
    "    else:\n",
    "        print('Adult')\n",
    "else:\n",
    "    print('Child')\n",
    "    \n",
    "    \n",
    "    \n",
    "print('This will always get executed')"
   ]
  },
  {
   "cell_type": "code",
   "execution_count": 16,
   "id": "a2dfd0b2-b043-4e50-9bc3-a44b14d7ba56",
   "metadata": {},
   "outputs": [
    {
     "name": "stdout",
     "output_type": "stream",
     "text": [
      "The person is in category: Child\n"
     ]
    }
   ],
   "source": [
    "age = 1\n",
    "person_type = 'not sure'\n",
    "\n",
    "if (age >= 13) and (age<=19):          # Using the logical operator : and\n",
    "    person_type = 'Teen'\n",
    "elif (age >= 0) and (age <=12):\n",
    "    person_type = 'Child'\n",
    "else:\n",
    "    person_type = 'Adult'\n",
    "print('The person is in category: {}'.format(person_type))"
   ]
  },
  {
   "cell_type": "code",
   "execution_count": 17,
   "id": "1ac16174-7aaa-4b83-b20c-1e1737e09f04",
   "metadata": {},
   "outputs": [
    {
     "name": "stdout",
     "output_type": "stream",
     "text": [
      "Sum of the array is: 15\n"
     ]
    }
   ],
   "source": [
    "# Find the sum of all numbers in a list\n",
    "\n",
    "myList = [1, 2, 3, 4, 5]\n",
    "\n",
    "sum = 0\n",
    "index = 0\n",
    "\n",
    "while index < len(myList):\n",
    "    sum += myList[index]                      # sum = sum + myList[index]\n",
    "    index += 1                                # index = index + 1\n",
    "print('Sum of the array is: {}'.format(sum))"
   ]
  },
  {
   "cell_type": "code",
   "execution_count": 19,
   "id": "23744d2a-1871-4728-a164-e856747ca7eb",
   "metadata": {},
   "outputs": [
    {
     "name": "stdout",
     "output_type": "stream",
     "text": [
      "1\n",
      "2\n",
      "3\n",
      "4\n",
      "5\n",
      "Completed iterating the list\n",
      "Eitherway printed\n"
     ]
    }
   ],
   "source": [
    "myList = [1, 2, 3, 4, 5]\n",
    "\n",
    "#iterating over the list\n",
    "index = 0\n",
    "while index < len(myList):\n",
    "    print(myList[index])\n",
    "   # break\n",
    "    index += 1\n",
    "else:\n",
    "    print('Completed iterating the list')\n",
    "    \n",
    "print('Eitherway printed')"
   ]
  },
  {
   "cell_type": "code",
   "execution_count": 24,
   "id": "8fb1f69e-0c83-4aba-b29b-0e767decee49",
   "metadata": {},
   "outputs": [
    {
     "name": "stdin",
     "output_type": "stream",
     "text": [
      "Enter a positive non-zero number:  5\n"
     ]
    },
    {
     "name": "stdout",
     "output_type": "stream",
     "text": [
      "Thank you, let me share the result with you\n",
      "The factorial of the number is:  120\n"
     ]
    }
   ],
   "source": [
    "userInput = input(\"Enter a positive non-zero number: \")\n",
    "number = int(userInput)\n",
    "\n",
    "if number <= 0:\n",
    "    print('Invalid number please re-enter')\n",
    "    userInput = input(\"Enter a positive non-zero number: \")\n",
    "    number = int(userInput)\n",
    "    \n",
    "else:\n",
    "    print('Thank you, let me share the result with you')\n",
    "\n",
    "fact = 1\n",
    "if number > 0:\n",
    "    while number > 0:\n",
    "        fact *= number                                      # fact = fact * number\n",
    "        number -= 1                                         # number = number -1\n",
    "    print('The factorial of the number is: ', fact)\n",
    "        "
   ]
  },
  {
   "cell_type": "code",
   "execution_count": 25,
   "id": "8dd26644-a8c8-4d7d-b514-b6dd405a271e",
   "metadata": {},
   "outputs": [
    {
     "name": "stdout",
     "output_type": "stream",
     "text": [
      "Sum of the aray is: 15\n"
     ]
    }
   ],
   "source": [
    "# Sum of all numbers in a list\n",
    "\n",
    "myList = [1, 2, 3, 4, 5]\n",
    "\n",
    "sum = 0\n",
    "#iterating over the list\n",
    "for element in myList:\n",
    "    sum += element\n",
    "    \n",
    "print(\"Sum of the aray is: {}\".format(sum))"
   ]
  },
  {
   "cell_type": "code",
   "execution_count": 26,
   "id": "99bda2dc-5b20-4bab-a0b8-89b09349e41d",
   "metadata": {},
   "outputs": [
    {
     "name": "stdout",
     "output_type": "stream",
     "text": [
      "0\n",
      "1\n",
      "2\n",
      "3\n",
      "4\n"
     ]
    }
   ],
   "source": [
    "# Print range of 5\n",
    "for element in range(5):\n",
    "    print(element)"
   ]
  },
  {
   "cell_type": "code",
   "execution_count": 27,
   "id": "b6bb228c-0580-46a2-83c3-f4ea23033f79",
   "metadata": {},
   "outputs": [
    {
     "name": "stdout",
     "output_type": "stream",
     "text": [
      "1\n",
      "4\n",
      "7\n",
      "10\n",
      "13\n",
      "16\n",
      "19\n",
      "22\n",
      "25\n",
      "28\n",
      "31\n",
      "34\n",
      "37\n"
     ]
    }
   ],
   "source": [
    "# Print range numbers from 0 to 40 but with step size of 12\n",
    "for element in range(1,40,3):\n",
    "    print(element)"
   ]
  },
  {
   "cell_type": "code",
   "execution_count": 28,
   "id": "d33a2ddb-a698-4033-97ad-940e7a0b83b6",
   "metadata": {},
   "outputs": [
    {
     "name": "stdout",
     "output_type": "stream",
     "text": [
      "1\n",
      "2\n",
      "3\n",
      "4\n",
      "suchit\n"
     ]
    }
   ],
   "source": [
    "myList = [1, 2, 3, 4, \"suchit\"]\n",
    "\n",
    "# Iterate over myList using index\n",
    "#for index in range(len(myList)):\n",
    "#    print(myList[index])\n",
    "\n",
    "for element in myList:\n",
    "    print(element)"
   ]
  },
  {
   "cell_type": "code",
   "execution_count": 29,
   "id": "72b2bdbf-4429-46b9-bf4e-4629bae6bec9",
   "metadata": {},
   "outputs": [
    {
     "name": "stdout",
     "output_type": "stream",
     "text": [
      "Suchit\n",
      "Rakesh\n",
      "Roshni\n",
      "Completed the names list\n"
     ]
    }
   ],
   "source": [
    "names = ['Suchit', 'Rakesh', 'Roshni']\n",
    "\n",
    "#iterating over the list\n",
    "for name in names:\n",
    "    print(name)\n",
    "else:\n",
    "    print(\"Completed the names list\")"
   ]
  },
  {
   "cell_type": "code",
   "execution_count": 30,
   "id": "43e48b3a-866a-4507-9a57-cffce350e6af",
   "metadata": {},
   "outputs": [
    {
     "name": "stdout",
     "output_type": "stream",
     "text": [
      "Suchit\n",
      "Rakesh\n",
      "Totally outside the for else block\n"
     ]
    }
   ],
   "source": [
    "# Let us use the break keyword\n",
    "\n",
    "for name in names:\n",
    "    print(name)\n",
    "    if name == 'Rakesh':\n",
    "        break    \n",
    "else:\n",
    "    print(\"Completed the names list\")\n",
    "\n",
    "print('Totally outside the for else block')"
   ]
  },
  {
   "cell_type": "code",
   "execution_count": 32,
   "id": "776a6e87-6bab-49f3-ade1-4bd43d0f56b5",
   "metadata": {},
   "outputs": [
    {
     "name": "stdin",
     "output_type": "stream",
     "text": [
      "Please enter a positive number:  123\n"
     ]
    },
    {
     "name": "stdout",
     "output_type": "stream",
     "text": [
      "[1, 3, 41]\n"
     ]
    }
   ],
   "source": [
    "inputNumber = input(\"Please enter a positive number: \")\n",
    "number = int(inputNumber)\n",
    "listOfDivisors = [1]\n",
    "for divisor in range(2,int(number/2)+1):               # divisor -> 2.3.4.5.6.7.8....... int(num/2) + 1\n",
    "    if(number%divisor == 0):\n",
    "        listOfDivisors.append(divisor)\n",
    "else:\n",
    "    print(listOfDivisors)"
   ]
  },
  {
   "cell_type": "code",
   "execution_count": 33,
   "id": "009bd95f-f6dd-4d97-afe5-971a2879ce4e",
   "metadata": {},
   "outputs": [
    {
     "name": "stdout",
     "output_type": "stream",
     "text": [
      "Suchit\n",
      "Totally outside the for & else loop\n"
     ]
    }
   ],
   "source": [
    "# Use of break\n",
    "names = ['Suchit', 'Rakesh', 'Roshni']\n",
    "for name in names:               # Let us iterate over the names list\n",
    "    if name == 'Rakesh':\n",
    "        break\n",
    "    print(name)\n",
    "else:\n",
    "    print('For is completed and we are in else part')\n",
    "print(\"Totally outside the for & else loop\")"
   ]
  },
  {
   "cell_type": "code",
   "execution_count": 34,
   "id": "ededd932-ab45-497b-922b-fb9e880eaf99",
   "metadata": {},
   "outputs": [
    {
     "name": "stdout",
     "output_type": "stream",
     "text": [
      "Suchit\n",
      "Roshni\n",
      "For is completed and we are in else part\n",
      "Totally outside the for & else loop\n"
     ]
    }
   ],
   "source": [
    "# Use of continue\n",
    "names = ['Suchit', 'Rakesh', 'Roshni']\n",
    "\n",
    "for name in names:               # Let us iterate over the names list\n",
    "    if name == 'Rakesh':\n",
    "        continue\n",
    "    print(name)                  # If continue condition is satisfied we skip this line and carry on with the next iteration\n",
    "else:\n",
    "    print('For is completed and we are in else part')\n",
    "print(\"Totally outside the for & else loop\")"
   ]
  },
  {
   "cell_type": "code",
   "execution_count": 35,
   "id": "c5cc4f01-31b4-4bbc-ae44-bdb0c0bdca9d",
   "metadata": {},
   "outputs": [
    {
     "name": "stdin",
     "output_type": "stream",
     "text": [
      "Please enter a positive number:  234\n"
     ]
    },
    {
     "name": "stdout",
     "output_type": "stream",
     "text": [
      "[1, 6, 9]\n"
     ]
    }
   ],
   "source": [
    "inputNumber = input(\"Please enter a positive number: \")\n",
    "number = int(inputNumber)\n",
    "listOfDivisors = [1]\n",
    "for divisor in range(2,int(number/2)+1):\n",
    "    if number%divisor == 0:\n",
    "        if divisor in [2,3]:\n",
    "            continue\n",
    "        elif len(listOfDivisors) == 3:\n",
    "            break\n",
    "        listOfDivisors.append(divisor)\n",
    "print(listOfDivisors)"
   ]
  },
  {
   "cell_type": "code",
   "execution_count": null,
   "id": "d2ebb97e-f762-45a6-b123-b5b0ad8ae18b",
   "metadata": {},
   "outputs": [],
   "source": []
  }
 ],
 "metadata": {
  "kernelspec": {
   "display_name": "Python 3",
   "language": "python",
   "name": "python3"
  },
  "language_info": {
   "codemirror_mode": {
    "name": "ipython",
    "version": 3
   },
   "file_extension": ".py",
   "mimetype": "text/x-python",
   "name": "python",
   "nbconvert_exporter": "python",
   "pygments_lexer": "ipython3",
   "version": "3.8.8"
  }
 },
 "nbformat": 4,
 "nbformat_minor": 5
}
