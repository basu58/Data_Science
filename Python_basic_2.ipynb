{
 "cells": [
  {
   "cell_type": "code",
   "execution_count": 1,
   "id": "a13a6f23-331c-4077-aa99-20dc1b4d1343",
   "metadata": {},
   "outputs": [
    {
     "name": "stdout",
     "output_type": "stream",
     "text": [
      "4 22.2 StringValue\n"
     ]
    }
   ],
   "source": [
    "intergerNumber = 4\n",
    "decimalNumber = 22.2\n",
    "stringVariable = \"StringValue\"\n",
    "print(intergerNumber, decimalNumber, stringVariable)"
   ]
  },
  {
   "cell_type": "code",
   "execution_count": 2,
   "id": "b2d31c45-34ef-42b3-bda1-01c50176e6c2",
   "metadata": {},
   "outputs": [
    {
     "name": "stdout",
     "output_type": "stream",
     "text": [
      "4 22.2 StringValue\n"
     ]
    }
   ],
   "source": [
    "intergerNumber, decimalNumber, stringVariable = 4, 22.2, \"StringValue\"\n",
    "print(intergerNumber, decimalNumber, stringVariable)"
   ]
  },
  {
   "cell_type": "code",
   "execution_count": 3,
   "id": "e750234e-8103-4df3-8160-1561beb933fd",
   "metadata": {},
   "outputs": [
    {
     "name": "stdout",
     "output_type": "stream",
     "text": [
      " All variable assigned same value   All variable assigned same value   All variable assigned same value \n"
     ]
    }
   ],
   "source": [
    "variable1=variable2=variable3 = \" All variable assigned same value \"\n",
    "print(variable1,variable2,variable3)"
   ]
  },
  {
   "cell_type": "code",
   "execution_count": 4,
   "id": "80e815f8-394d-4640-a980-7cb86427d907",
   "metadata": {},
   "outputs": [
    {
     "name": "stdout",
     "output_type": "stream",
     "text": [
      "140728440792976\n"
     ]
    }
   ],
   "source": [
    "print(id(intergerNumber))               #print address of variable: 'intergerNumber'"
   ]
  },
  {
   "cell_type": "code",
   "execution_count": 5,
   "id": "5e62876e-52d3-493a-a3f9-8bf9db483025",
   "metadata": {},
   "outputs": [
    {
     "name": "stdout",
     "output_type": "stream",
     "text": [
      "2991220754160\n"
     ]
    }
   ],
   "source": [
    "print(id(decimalNumber))               #print address of variable: 'decimalNumber'"
   ]
  },
  {
   "cell_type": "code",
   "execution_count": 6,
   "id": "9b670025-6c9c-4a7f-a6de-d037f669d41f",
   "metadata": {},
   "outputs": [
    {
     "name": "stdout",
     "output_type": "stream",
     "text": [
      "140728440793168\n",
      "140728440793168\n"
     ]
    }
   ],
   "source": [
    "interger1 = 10\n",
    "interger2 = 10\n",
    "\n",
    "print(id(interger1))   \n",
    "print(id(interger2))   "
   ]
  },
  {
   "cell_type": "code",
   "execution_count": 7,
   "id": "bd9833a3-948b-45d5-843e-f2208d15412f",
   "metadata": {},
   "outputs": [
    {
     "name": "stdout",
     "output_type": "stream",
     "text": [
      "12  is of type <class 'int'>\n"
     ]
    }
   ],
   "source": [
    "data1 = 12                               # integer data type\n",
    "print(data1, \" is of type\", type(data1))"
   ]
  },
  {
   "cell_type": "code",
   "execution_count": 8,
   "id": "e448786f-9c3e-48e1-9e50-2f23bf53a762",
   "metadata": {},
   "outputs": [
    {
     "name": "stdout",
     "output_type": "stream",
     "text": [
      "12.5  is of type <class 'float'>\n"
     ]
    }
   ],
   "source": [
    "data2 = 12.5                            # float data type\n",
    "print(data2, \" is of type\", type(data2))"
   ]
  },
  {
   "cell_type": "code",
   "execution_count": 9,
   "id": "f9e6139a-b8fc-4634-8015-0f2f65513ff9",
   "metadata": {},
   "outputs": [
    {
     "name": "stdout",
     "output_type": "stream",
     "text": [
      "(100+20j)  is complex number? True\n"
     ]
    }
   ],
   "source": [
    "data3 = 100 + 20j                          #data type is changed to complex number\n",
    "print(data3, \" is complex number?\", isinstance(data3, complex))"
   ]
  },
  {
   "cell_type": "code",
   "execution_count": 10,
   "id": "7370e640-f7c6-4dd0-8eeb-1e084f65fa46",
   "metadata": {},
   "outputs": [
    {
     "name": "stdout",
     "output_type": "stream",
     "text": [
      "<class 'bool'>\n"
     ]
    }
   ],
   "source": [
    "booleanVariable = True                          # 'booleanVariable' is a boolean type & True is a keyword\n",
    "print(type(booleanVariable))"
   ]
  },
  {
   "cell_type": "code",
   "execution_count": 11,
   "id": "55f1a5f7-0e85-4f2d-94e2-3549cfb269ba",
   "metadata": {},
   "outputs": [
    {
     "name": "stdout",
     "output_type": "stream",
     "text": [
      "stringVariable is :  This is a string variable\n",
      "First character in stringVariable is :  T\n"
     ]
    }
   ],
   "source": [
    "stringVariable = \"This is a string variable\"\n",
    "print('stringVariable is : ',stringVariable)\n",
    "print('First character in stringVariable is : ',stringVariable[0])"
   ]
  },
  {
   "cell_type": "code",
   "execution_count": 12,
   "id": "75142f02-8165-4a5e-99bc-4d14fd892f8f",
   "metadata": {},
   "outputs": [
    {
     "name": "stdout",
     "output_type": "stream",
     "text": [
      "This is\n",
      "This is\n",
      "is a string variable\n"
     ]
    }
   ],
   "source": [
    "# Slicing of String variable\n",
    "print(stringVariable[0:7])\n",
    "print(stringVariable[:7])\n",
    "print(stringVariable[5:])"
   ]
  },
  {
   "cell_type": "code",
   "execution_count": 13,
   "id": "e15001f3-beca-4863-8515-8991f204e792",
   "metadata": {},
   "outputs": [
    {
     "name": "stdout",
     "output_type": "stream",
     "text": [
      "[1, 2.2, 'ThirdElement', 12, 24, 'More values']\n"
     ]
    }
   ],
   "source": [
    "myList = [1, 2.2, \"ThirdElement\",12,24,\"More values\"]\n",
    "print(myList)        "
   ]
  },
  {
   "cell_type": "code",
   "execution_count": 14,
   "id": "49e8e6ad-d11d-44c4-9091-67d88cd0c578",
   "metadata": {},
   "outputs": [
    {
     "name": "stdout",
     "output_type": "stream",
     "text": [
      "ThirdElement\n"
     ]
    }
   ],
   "source": [
    "print(myList[2])                     # Print an element based on its index. Index starts from 0"
   ]
  },
  {
   "cell_type": "code",
   "execution_count": 15,
   "id": "219bf4d0-9c28-48a1-bdb4-6183c33109a6",
   "metadata": {},
   "outputs": [
    {
     "name": "stdout",
     "output_type": "stream",
     "text": [
      "[1, 2.2, 'ElementThree', 12, 24, 'More values']\n"
     ]
    }
   ],
   "source": [
    "myList[2] = \"ElementThree\"\n",
    "print(myList) "
   ]
  },
  {
   "cell_type": "code",
   "execution_count": 16,
   "id": "a96c35c8-4d05-4417-b81d-4575dd0f7e7d",
   "metadata": {},
   "outputs": [
    {
     "name": "stdout",
     "output_type": "stream",
     "text": [
      "[1, 'ElementThree', 12, 24, 'More values']\n"
     ]
    }
   ],
   "source": [
    "myList.remove(2.2)                             # Remove item from a particular index\n",
    "print(myList)"
   ]
  },
  {
   "cell_type": "code",
   "execution_count": 17,
   "id": "ddbf7416-63e8-4c25-8b25-c4f1704b45ad",
   "metadata": {},
   "outputs": [
    {
     "name": "stdout",
     "output_type": "stream",
     "text": [
      "[1, 'ElementThree', 24, 'More values']\n"
     ]
    }
   ],
   "source": [
    "myList.pop(2)                                 # Remove item from a particular index\n",
    "print(myList)"
   ]
  },
  {
   "cell_type": "code",
   "execution_count": 18,
   "id": "d7792105-8a77-474f-86db-466e00078aeb",
   "metadata": {},
   "outputs": [
    {
     "name": "stdout",
     "output_type": "stream",
     "text": [
      "[1, 'ElementThree', 24, 'More values', 2.2]\n"
     ]
    }
   ],
   "source": [
    "myList.append(2.2)                            # Add item at the last index\n",
    "print(myList)"
   ]
  },
  {
   "cell_type": "code",
   "execution_count": 19,
   "id": "429e0fb3-4f7f-436f-b570-199244409300",
   "metadata": {},
   "outputs": [],
   "source": [
    "myTuple = (10,20,30,\"Text\")"
   ]
  },
  {
   "cell_type": "code",
   "execution_count": 20,
   "id": "ebae9172-f408-4b15-a426-02f639aa1c3d",
   "metadata": {},
   "outputs": [
    {
     "name": "stdout",
     "output_type": "stream",
     "text": [
      "30\n"
     ]
    }
   ],
   "source": [
    "print(myTuple[2])   "
   ]
  },
  {
   "cell_type": "code",
   "execution_count": 21,
   "id": "6dad21f1-3de1-47ad-b607-d16fe455d7db",
   "metadata": {},
   "outputs": [
    {
     "ename": "TypeError",
     "evalue": "'tuple' object does not support item assignment",
     "output_type": "error",
     "traceback": [
      "\u001b[1;31m---------------------------------------------------------------------------\u001b[0m",
      "\u001b[1;31mTypeError\u001b[0m                                 Traceback (most recent call last)",
      "\u001b[1;32m<ipython-input-21-10ac5a2865b1>\u001b[0m in \u001b[0;36m<module>\u001b[1;34m\u001b[0m\n\u001b[1;32m----> 1\u001b[1;33m \u001b[0mmyTuple\u001b[0m\u001b[1;33m[\u001b[0m\u001b[1;36m2\u001b[0m\u001b[1;33m]\u001b[0m \u001b[1;33m=\u001b[0m \u001b[1;36m120\u001b[0m\u001b[1;33m\u001b[0m\u001b[1;33m\u001b[0m\u001b[0m\n\u001b[0m",
      "\u001b[1;31mTypeError\u001b[0m: 'tuple' object does not support item assignment"
     ]
    }
   ],
   "source": [
    "myTuple[2] = 120"
   ]
  },
  {
   "cell_type": "code",
   "execution_count": 22,
   "id": "6167991d-d854-41dd-b0d3-52a9fddc0b6e",
   "metadata": {},
   "outputs": [
    {
     "name": "stdout",
     "output_type": "stream",
     "text": [
      "{40, 10, 50, 20, 30}\n"
     ]
    }
   ],
   "source": [
    "mySet = {10, 20, 30, 40, 50}\n",
    "print(mySet)"
   ]
  },
  {
   "cell_type": "code",
   "execution_count": 23,
   "id": "0a1ea650-7ebc-4ca6-8935-d02de7167a15",
   "metadata": {},
   "outputs": [
    {
     "name": "stdout",
     "output_type": "stream",
     "text": [
      "<class 'set'>\n"
     ]
    }
   ],
   "source": [
    "print(type(mySet))                 # Check the type of the variable"
   ]
  },
  {
   "cell_type": "code",
   "execution_count": 24,
   "id": "deef652e-f945-4699-a8a2-5a185b2f26fd",
   "metadata": {},
   "outputs": [
    {
     "ename": "TypeError",
     "evalue": "'set' object is not subscriptable",
     "output_type": "error",
     "traceback": [
      "\u001b[1;31m---------------------------------------------------------------------------\u001b[0m",
      "\u001b[1;31mTypeError\u001b[0m                                 Traceback (most recent call last)",
      "\u001b[1;32m<ipython-input-24-05ec0fa65f8b>\u001b[0m in \u001b[0;36m<module>\u001b[1;34m\u001b[0m\n\u001b[1;32m----> 1\u001b[1;33m \u001b[0mprint\u001b[0m\u001b[1;33m(\u001b[0m\u001b[0mmySet\u001b[0m\u001b[1;33m[\u001b[0m\u001b[1;36m0\u001b[0m\u001b[1;33m]\u001b[0m\u001b[1;33m)\u001b[0m                    \u001b[1;31m# Cannot print any particular element in a set because\u001b[0m\u001b[1;33m\u001b[0m\u001b[1;33m\u001b[0m\u001b[0m\n\u001b[0m\u001b[0;32m      2\u001b[0m                                    \u001b[1;31m# it's an unorder collections of items\u001b[0m\u001b[1;33m\u001b[0m\u001b[1;33m\u001b[0m\u001b[1;33m\u001b[0m\u001b[0m\n",
      "\u001b[1;31mTypeError\u001b[0m: 'set' object is not subscriptable"
     ]
    }
   ],
   "source": [
    "print(mySet[0])                    # Cannot print any particular element in a set because \n",
    "                                   # it's an unorder collections of items"
   ]
  },
  {
   "cell_type": "code",
   "execution_count": 25,
   "id": "2190c696-6151-486b-b38d-141b9c886bda",
   "metadata": {},
   "outputs": [
    {
     "name": "stdout",
     "output_type": "stream",
     "text": [
      "value2\n"
     ]
    }
   ],
   "source": [
    "myDictionary = {'key1': \"value1\", 'key2': \"value2\", 'key3': \"value3\",}\n",
    "print(myDictionary['key2'])"
   ]
  },
  {
   "cell_type": "code",
   "execution_count": 26,
   "id": "832f0721-40de-4ad1-b897-236782f95134",
   "metadata": {},
   "outputs": [
    {
     "name": "stdout",
     "output_type": "stream",
     "text": [
      "{'key1': 'value1', 'key2': 'value2.2', 'key3': 'value3'}\n"
     ]
    }
   ],
   "source": [
    "myDictionary['key2'] = \"value2.2\"\n",
    "print(myDictionary)"
   ]
  },
  {
   "cell_type": "code",
   "execution_count": 27,
   "id": "6ad518bf-e448-4ff4-ad5a-851ed1b0d14b",
   "metadata": {},
   "outputs": [
    {
     "name": "stdout",
     "output_type": "stream",
     "text": [
      "{'key1': 'value1', 'key2': 'value2.2', 'key3': 'value3', 'key4': 'value4'}\n"
     ]
    }
   ],
   "source": [
    "myDictionary[\"key4\"] = \"value4\"\n",
    "print(myDictionary)"
   ]
  },
  {
   "cell_type": "code",
   "execution_count": 28,
   "id": "477e5142-0723-45b4-afe7-8a97255a285c",
   "metadata": {},
   "outputs": [
    {
     "name": "stdout",
     "output_type": "stream",
     "text": [
      "{'key1': 'value1', 'key3': 'value3', 'key4': 'value4'}\n"
     ]
    }
   ],
   "source": [
    "del myDictionary[\"key2\"]\n",
    "print(myDictionary)"
   ]
  },
  {
   "cell_type": "code",
   "execution_count": 29,
   "id": "be48e869-a50f-4891-b4f9-56ee1a9ed890",
   "metadata": {},
   "outputs": [
    {
     "data": {
      "text/plain": [
       "5"
      ]
     },
     "execution_count": 29,
     "metadata": {},
     "output_type": "execute_result"
    }
   ],
   "source": [
    "int(5.5)"
   ]
  },
  {
   "cell_type": "code",
   "execution_count": 30,
   "id": "d569d5a4-dddf-4ef1-868b-b45457840ff3",
   "metadata": {},
   "outputs": [
    {
     "data": {
      "text/plain": [
       "5.0"
      ]
     },
     "execution_count": 30,
     "metadata": {},
     "output_type": "execute_result"
    }
   ],
   "source": [
    "float(5)"
   ]
  },
  {
   "cell_type": "code",
   "execution_count": 31,
   "id": "b71d9c11-223a-45eb-88c9-ca569e61b108",
   "metadata": {},
   "outputs": [
    {
     "data": {
      "text/plain": [
       "'5'"
      ]
     },
     "execution_count": 31,
     "metadata": {},
     "output_type": "execute_result"
    }
   ],
   "source": [
    "str(5)"
   ]
  },
  {
   "cell_type": "code",
   "execution_count": 32,
   "id": "8e1b30b6-6b56-440e-849b-cb9a7c72d4a9",
   "metadata": {},
   "outputs": [
    {
     "data": {
      "text/plain": [
       "'5.5'"
      ]
     },
     "execution_count": 32,
     "metadata": {},
     "output_type": "execute_result"
    }
   ],
   "source": [
    "str(5.5)"
   ]
  },
  {
   "cell_type": "code",
   "execution_count": 33,
   "id": "b5e6aa74-07b2-4c55-b14a-2e930d3e4cbf",
   "metadata": {},
   "outputs": [
    {
     "data": {
      "text/plain": [
       "5"
      ]
     },
     "execution_count": 33,
     "metadata": {},
     "output_type": "execute_result"
    }
   ],
   "source": [
    "int('5')"
   ]
  },
  {
   "cell_type": "code",
   "execution_count": 34,
   "id": "43e47eee-9079-4cda-a222-405e37a7a9e8",
   "metadata": {},
   "outputs": [
    {
     "ename": "ValueError",
     "evalue": "invalid literal for int() with base 10: '5.5'",
     "output_type": "error",
     "traceback": [
      "\u001b[1;31m---------------------------------------------------------------------------\u001b[0m",
      "\u001b[1;31mValueError\u001b[0m                                Traceback (most recent call last)",
      "\u001b[1;32m<ipython-input-34-b9fcb4cd3570>\u001b[0m in \u001b[0;36m<module>\u001b[1;34m\u001b[0m\n\u001b[1;32m----> 1\u001b[1;33m \u001b[0mint\u001b[0m\u001b[1;33m(\u001b[0m\u001b[1;34m'5.5'\u001b[0m\u001b[1;33m)\u001b[0m\u001b[1;33m\u001b[0m\u001b[1;33m\u001b[0m\u001b[0m\n\u001b[0m",
      "\u001b[1;31mValueError\u001b[0m: invalid literal for int() with base 10: '5.5'"
     ]
    }
   ],
   "source": [
    "int('5.5')"
   ]
  },
  {
   "cell_type": "code",
   "execution_count": 35,
   "id": "e2f49684-1d78-4145-9d3a-0486a6518c81",
   "metadata": {},
   "outputs": [
    {
     "data": {
      "text/plain": [
       "5.5"
      ]
     },
     "execution_count": 35,
     "metadata": {},
     "output_type": "execute_result"
    }
   ],
   "source": [
    "float('5.5')"
   ]
  },
  {
   "cell_type": "code",
   "execution_count": 36,
   "id": "3ce9ebb2-cc64-4428-824b-030dd6b734f1",
   "metadata": {},
   "outputs": [
    {
     "data": {
      "text/plain": [
       "5.0"
      ]
     },
     "execution_count": 36,
     "metadata": {},
     "output_type": "execute_result"
    }
   ],
   "source": [
    "float('5')"
   ]
  },
  {
   "cell_type": "code",
   "execution_count": 37,
   "id": "dc9537b4-0bba-4fdc-99f9-3083b1f9fb22",
   "metadata": {},
   "outputs": [
    {
     "ename": "ValueError",
     "evalue": "invalid literal for int() with base 10: 'CharIn10'",
     "output_type": "error",
     "traceback": [
      "\u001b[1;31m---------------------------------------------------------------------------\u001b[0m",
      "\u001b[1;31mValueError\u001b[0m                                Traceback (most recent call last)",
      "\u001b[1;32m<ipython-input-37-e0efe699a269>\u001b[0m in \u001b[0;36m<module>\u001b[1;34m\u001b[0m\n\u001b[1;32m----> 1\u001b[1;33m \u001b[0mint\u001b[0m\u001b[1;33m(\u001b[0m\u001b[1;34m'CharIn10'\u001b[0m\u001b[1;33m)\u001b[0m\u001b[1;33m\u001b[0m\u001b[1;33m\u001b[0m\u001b[0m\n\u001b[0m",
      "\u001b[1;31mValueError\u001b[0m: invalid literal for int() with base 10: 'CharIn10'"
     ]
    }
   ],
   "source": [
    "int('CharIn10')"
   ]
  },
  {
   "cell_type": "code",
   "execution_count": 38,
   "id": "e02f7623-1d15-45fd-baf6-0d82fc992429",
   "metadata": {},
   "outputs": [
    {
     "ename": "TypeError",
     "evalue": "can only concatenate str (not \"int\") to str",
     "output_type": "error",
     "traceback": [
      "\u001b[1;31m---------------------------------------------------------------------------\u001b[0m",
      "\u001b[1;31mTypeError\u001b[0m                                 Traceback (most recent call last)",
      "\u001b[1;32m<ipython-input-38-cb426ea9522f>\u001b[0m in \u001b[0;36m<module>\u001b[1;34m\u001b[0m\n\u001b[1;32m----> 1\u001b[1;33m \u001b[0mmyNewString\u001b[0m \u001b[1;33m=\u001b[0m \u001b[1;34m'text1 '\u001b[0m\u001b[1;33m+\u001b[0m \u001b[1;36m20\u001b[0m \u001b[1;33m+\u001b[0m \u001b[1;34m' text2'\u001b[0m\u001b[1;33m\u001b[0m\u001b[1;33m\u001b[0m\u001b[0m\n\u001b[0m",
      "\u001b[1;31mTypeError\u001b[0m: can only concatenate str (not \"int\") to str"
     ]
    }
   ],
   "source": [
    "myNewString = 'text1 '+ 20 + ' text2'"
   ]
  },
  {
   "cell_type": "code",
   "execution_count": 39,
   "id": "a71044da-ddcc-4a94-b540-2c93e744613f",
   "metadata": {},
   "outputs": [
    {
     "name": "stdout",
     "output_type": "stream",
     "text": [
      "text1 20 text2\n"
     ]
    }
   ],
   "source": [
    "myNewString = 'text1 '+ str(20) + ' text2'\n",
    "print(myNewString)"
   ]
  },
  {
   "cell_type": "code",
   "execution_count": 40,
   "id": "3ca93ecf-ad79-4cfd-8205-34f67c476f9a",
   "metadata": {},
   "outputs": [
    {
     "name": "stdout",
     "output_type": "stream",
     "text": [
      "['a', 'b', 'c', 'c']\n",
      "<class 'list'>\n",
      "<class 'set'>\n",
      "{'c', 'a', 'b'}\n"
     ]
    }
   ],
   "source": [
    "# 1> list to set\n",
    "myList1 = ['a','b','c','c']\n",
    "print(myList1)\n",
    "print(type(myList1))\n",
    "mySet1 = set(myList1)\n",
    "print(type(mySet1))\n",
    "print(mySet1)"
   ]
  },
  {
   "cell_type": "code",
   "execution_count": 41,
   "id": "7873b77e-de48-497b-93c2-b2deffd32358",
   "metadata": {},
   "outputs": [
    {
     "name": "stdout",
     "output_type": "stream",
     "text": [
      "<class 'str'>\n",
      "<class 'list'>\n",
      "['T', 'h', 'i', 's', ' ', 'i', 's', ' ', 's', 't', 'r', 'i', 'n', 'g', ' ', 't', 'o', ' ', 'l', 'i', 's', 't']\n"
     ]
    }
   ],
   "source": [
    "# 2> String to list\n",
    "myString1 = 'This is string to list'\n",
    "print(type(myString1))\n",
    "\n",
    "strToList = list(myString1)\n",
    "print(type(strToList))\n",
    "print(strToList)"
   ]
  },
  {
   "cell_type": "code",
   "execution_count": null,
   "id": "707a6d28-5e91-4bf8-9ae5-c4317cdbb3c6",
   "metadata": {},
   "outputs": [],
   "source": []
  }
 ],
 "metadata": {
  "kernelspec": {
   "display_name": "Python 3",
   "language": "python",
   "name": "python3"
  },
  "language_info": {
   "codemirror_mode": {
    "name": "ipython",
    "version": 3
   },
   "file_extension": ".py",
   "mimetype": "text/x-python",
   "name": "python",
   "nbconvert_exporter": "python",
   "pygments_lexer": "ipython3",
   "version": "3.8.8"
  }
 },
 "nbformat": 4,
 "nbformat_minor": 5
}
